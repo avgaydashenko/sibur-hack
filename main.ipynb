{
 "cells": [
  {
   "cell_type": "code",
   "execution_count": 99,
   "metadata": {
    "ExecuteTime": {
     "end_time": "2018-05-19T09:04:40.137165Z",
     "start_time": "2018-05-19T09:04:38.865805Z"
    }
   },
   "outputs": [],
   "source": [
    "import tqdm\n",
    "import numpy as np\n",
    "import pandas as pd\n",
    "import lightgbm as lgb\n",
    "import matplotlib.pyplot as plt\n",
    "\n",
    "from dateutil import parser\n",
    "from datetime import datetime, timedelta\n",
    "from sklearn.model_selection import train_test_split\n",
    "from sklearn.metrics import f1_score, fbeta_score, roc_auc_score\n",
    "from sklearn.model_selection import StratifiedKFold, StratifiedShuffleSplit, KFold\n",
    "\n",
    "np.random.seed(4242)"
   ]
  },
  {
   "cell_type": "code",
   "execution_count": 2,
   "metadata": {
    "ExecuteTime": {
     "end_time": "2018-05-19T09:18:01.938326Z",
     "start_time": "2018-05-19T09:15:06.124946Z"
    }
   },
   "outputs": [
    {
     "name": "stdout",
     "output_type": "stream",
     "text": [
      "CPU times: user 37.9 s, sys: 2.06 s, total: 39.9 s\n",
      "Wall time: 40.6 s\n"
     ]
    },
    {
     "data": {
      "text/plain": [
       "((3153599, 44), (47, 2))"
      ]
     },
     "execution_count": 2,
     "metadata": {},
     "output_type": "execute_result"
    }
   ],
   "source": [
    "%time df = pd.read_csv('dataset/dataset_no_2018.csv', encoding='cp1251', parse_dates=['date'])\n",
    "df.drop('Unnamed: 0', axis=1, inplace=True)\n",
    "stops = pd.read_csv('dataset/stops.csv', parse_dates=['date'])\n",
    "df.shape, stops.shape"
   ]
  },
  {
   "cell_type": "code",
   "execution_count": 3,
   "metadata": {},
   "outputs": [],
   "source": [
    "columns_in = [\n",
    "    'H2.C3..КОНТР.СООТН...212AIC008.PV', \n",
    "    'RF.21304.Ток...213MII904A',\n",
    "    'S.C.ВПУСК.ПП.ДАВЛ...214PI226AA',\n",
    "    'S.C.ВПУСК.ПП.ДАВЛ...214PI226AB',\n",
    "    'SPEED.CONTROLLER...250MSIC001.PV',\n",
    "    'НАГНЕТАНИЕ.В.EX.21401...250PI001',\n",
    "    'ПОЛОЖ.НОЖА..ГРАНУЛЯТОРА...214ZI211A',\n",
    "    'ПОЛОЖ.ЩЕЛ.ДИСКА...214ZI202A',\n",
    "    'РАСХОД.В....EX.21401...250FIC001.PV',\n",
    "    'РАСХОД.ЛИНИИ.P.W...214FI205A',\n",
    "    'ТОК.ДВИГ.ГРАНУЛЯТ...214II217A',\n",
    "    'УПРАВЛЕНИЕ..P.25001A...250HIC001A',\n",
    "    'ФАКТ.РАСХОД.ПРОП...213FY070',\n",
    "    'ЭКСТР.ДВИГ.ПОТОК...214II200A'\n",
    "]\n",
    "\n",
    "\n",
    "df[columns_in] = (df[columns_in] - df[columns_in].min(axis=0)) / (df[columns_in].max(axis=0) - df[columns_in].min(axis=0))\n",
    "calm = ((df[columns_in].diff() > 0.05).sum(axis=1) == 0).astype(int)"
   ]
  },
  {
   "cell_type": "code",
   "execution_count": 4,
   "metadata": {},
   "outputs": [
    {
     "data": {
      "text/plain": [
       "(184, 2)"
      ]
     },
     "execution_count": 4,
     "metadata": {},
     "output_type": "execute_result"
    }
   ],
   "source": [
    "M_NEW_DATE_SPAN = 20\n",
    "M_PRED_BEFORE_SPAN = 5\n",
    "M_TOP_BOUND_SPAN = 10\n",
    "\n",
    "new_dates = []\n",
    "for stop_dt in stops.date[:-1]:\n",
    "    new_dates.append(stop_dt - timedelta(minutes=M_NEW_DATE_SPAN))\n",
    "    new_dates.append(stop_dt - timedelta(minutes=2 * M_NEW_DATE_SPAN))\n",
    "    new_dates.append(stop_dt - timedelta(minutes=3 * M_NEW_DATE_SPAN))\n",
    "    \n",
    "new_stops = pd.DataFrame([[dt, 'stop'] for dt in new_dates], columns=stops.columns)\n",
    "stops = pd.concat([stops.iloc[:-1], new_stops], axis=0)\n",
    "stops.shape"
   ]
  },
  {
   "cell_type": "code",
   "execution_count": 5,
   "metadata": {
    "ExecuteTime": {
     "end_time": "2018-05-19T09:20:23.675476Z",
     "start_time": "2018-05-19T09:18:01.978762Z"
    }
   },
   "outputs": [
    {
     "name": "stderr",
     "output_type": "stream",
     "text": [
      "100%|██████████| 184/184 [02:13<00:00,  1.38it/s]\n"
     ]
    },
    {
     "data": {
      "text/plain": [
       "(3099681, 44)"
      ]
     },
     "execution_count": 5,
     "metadata": {},
     "output_type": "execute_result"
    }
   ],
   "source": [
    "df_no_stops = df.copy()\n",
    "for stop_dt in tqdm.tqdm(stops.date):\n",
    "    date_range = (df_no_stops.date >= (stop_dt - timedelta(minutes=4 * M_NEW_DATE_SPAN))) \\\n",
    "        & (df_no_stops.date <= (stop_dt + timedelta(minutes=3 * M_NEW_DATE_SPAN)))\n",
    "    df_no_stops = df_no_stops[~date_range]\n",
    "\n",
    "df_no_stops.shape"
   ]
  },
  {
   "cell_type": "code",
   "execution_count": 7,
   "metadata": {},
   "outputs": [],
   "source": [
    "def make_features(df, periods=[1, 3, 10, 30, 50]):  # < M_TOP_BOUND_SPAN = 10 min\n",
    "    columns = df.columns[df.columns != 'date']\n",
    "    names = []\n",
    "    vecs = []\n",
    "    for period in periods:\n",
    "        feats = [\n",
    "            ('mean', df[-period:][columns].mean(axis=0).values),\n",
    "            ('min', df[-period:][columns].min(axis=0).values),\n",
    "            ('std', df[-period:][columns].std(axis=0).values),\n",
    "            ('razd', df[-period - 1:][columns].diff().mean(axis=0).values)\n",
    "        ]\n",
    "        \n",
    "        fs = []\n",
    "        for f_name, f in feats:\n",
    "            names.extend(f'{f_name}_{c}_{period}' for c in columns)\n",
    "            fs.append(f)\n",
    "        \n",
    "        vecs.append(np.hstack(fs))\n",
    "    \n",
    "    return names, np.hstack(vecs)\n",
    "\n",
    "\n",
    "NAMES = make_features(df)[0]"
   ]
  },
  {
   "cell_type": "code",
   "execution_count": 8,
   "metadata": {
    "ExecuteTime": {
     "start_time": "2018-05-19T09:22:41.297Z"
    }
   },
   "outputs": [
    {
     "name": "stderr",
     "output_type": "stream",
     "text": [
      "100%|██████████| 2000/2000 [01:18<00:00, 25.44it/s]\n"
     ]
    },
    {
     "data": {
      "text/plain": [
       "((2000, 860), (2000,))"
      ]
     },
     "execution_count": 8,
     "metadata": {},
     "output_type": "execute_result"
    }
   ],
   "source": [
    "def make_range(df, stop_dt):\n",
    "    return (df['date'] >= (stop_dt - timedelta(minutes=M_TOP_BOUND_SPAN))) & (df['date'] < stop_dt)\n",
    "\n",
    "\n",
    "def make_false(df_no_stops, n_samples):\n",
    "    random_work = np.random.choice(df_no_stops.shape[0], n_samples)\n",
    "    xs = []\n",
    "    ys = []\n",
    "    for work in tqdm.tqdm(random_work):\n",
    "        rng = df_no_stops[make_range(df_no_stops, df_no_stops.iloc[work]['date'] - timedelta(minutes=M_PRED_BEFORE_SPAN))]\n",
    "        feature_vector = make_features(rng)[1]\n",
    "        xs.append(feature_vector)\n",
    "        ys.append(0)\n",
    "    \n",
    "    return np.array(xs), np.array(ys)\n",
    "\n",
    "X_false, y_false = make_false(df_no_stops, 2000)\n",
    "X_false.shape, y_false.shape"
   ]
  },
  {
   "cell_type": "code",
   "execution_count": 9,
   "metadata": {},
   "outputs": [
    {
     "name": "stderr",
     "output_type": "stream",
     "text": [
      "100%|██████████| 184/184 [00:07<00:00, 25.28it/s]\n"
     ]
    },
    {
     "data": {
      "text/plain": [
       "((2000, 860), (184, 860))"
      ]
     },
     "execution_count": 9,
     "metadata": {},
     "output_type": "execute_result"
    }
   ],
   "source": [
    "def make_true(df_with_stops, stops):\n",
    "    xs = []\n",
    "    ys = []\n",
    "    for stop_dt in tqdm.tqdm(stops.date):\n",
    "        rng = df_with_stops[make_range(df_with_stops, stop_dt - timedelta(minutes=M_PRED_BEFORE_SPAN))]\n",
    "        feature_vector = make_features(rng)[1]\n",
    "        xs.append(feature_vector)\n",
    "        ys.append(1)\n",
    "    \n",
    "    return np.array(xs), np.array(ys)\n",
    "\n",
    "X_true, y_true = make_true(df, stops)\n",
    "X_false.shape, X_true.shape"
   ]
  },
  {
   "cell_type": "code",
   "execution_count": 121,
   "metadata": {},
   "outputs": [
    {
     "data": {
      "text/plain": [
       "((2184, 860), (2184,))"
      ]
     },
     "execution_count": 121,
     "metadata": {},
     "output_type": "execute_result"
    }
   ],
   "source": [
    "X = np.vstack([X_false, X_true])\n",
    "y = np.hstack([y_false, y_true]).T\n",
    "X.shape, y.shape"
   ]
  },
  {
   "cell_type": "markdown",
   "metadata": {},
   "source": [
    "# Linear"
   ]
  },
  {
   "cell_type": "code",
   "execution_count": 105,
   "metadata": {},
   "outputs": [
    {
     "data": {
      "text/plain": [
       "SGDClassifier(alpha=0.0001, average=False, class_weight=None, epsilon=0.1,\n",
       "       eta0=0.0, fit_intercept=True, l1_ratio=0.15,\n",
       "       learning_rate='optimal', loss='hinge', max_iter=None, n_iter=None,\n",
       "       n_jobs=1, penalty='l2', power_t=0.5, random_state=None,\n",
       "       shuffle=True, tol=0.001, verbose=0, warm_start=False)"
      ]
     },
     "execution_count": 105,
     "metadata": {},
     "output_type": "execute_result"
    }
   ],
   "source": [
    "from sklearn.linear_model import SGDClassifier\n",
    "from sklearn.metrics import accuracy_score, f1_score\n",
    "\n",
    "\n",
    "model = SGDClassifier(tol=1e-3)\n",
    "X_train, X_val, y_train, y_val = train_test_split(np.nan_to_num(X), y, test_size=0.2)\n",
    "model.fit(X_train, y_train)"
   ]
  },
  {
   "cell_type": "code",
   "execution_count": 107,
   "metadata": {},
   "outputs": [
    {
     "data": {
      "text/plain": [
       "0.919908466819222"
      ]
     },
     "execution_count": 107,
     "metadata": {},
     "output_type": "execute_result"
    }
   ],
   "source": [
    "accuracy_score(y_val, model.predict(X_val))"
   ]
  },
  {
   "cell_type": "code",
   "execution_count": 108,
   "metadata": {},
   "outputs": [
    {
     "name": "stderr",
     "output_type": "stream",
     "text": [
      "/Users/rebryk/Projects/sibur-env/lib/python3.6/site-packages/sklearn/metrics/classification.py:1135: UndefinedMetricWarning: F-score is ill-defined and being set to 0.0 due to no predicted samples.\n",
      "  'precision', 'predicted', average, warn_for)\n"
     ]
    },
    {
     "data": {
      "text/plain": [
       "0.0"
      ]
     },
     "execution_count": 108,
     "metadata": {},
     "output_type": "execute_result"
    }
   ],
   "source": [
    "f1_score(y_val, model.predict(X_val))"
   ]
  },
  {
   "cell_type": "markdown",
   "metadata": {},
   "source": [
    "# LGBM"
   ]
  },
  {
   "cell_type": "code",
   "execution_count": 11,
   "metadata": {},
   "outputs": [],
   "source": [
    "def downsampling(X, y):\n",
    "    ids0, ids1 = y[y == 0].index, y[y == 1].index\n",
    "    sampled_ids1 = y[y == 1].sample(len(ids0)).index\n",
    "    nX = pd.concat([X.loc[ids0], X.loc[sampled_ids1]], axis=0)\n",
    "    ny = pd.concat([y[ids0], y[sampled_ids1]], axis=0)\n",
    "    assert (nX.index == ny.index).all()\n",
    "    return nX, ny\n",
    "\n",
    "\n",
    "def upsampling120(X, y):\n",
    "    X, y = pd.DataFrame(X), pd.Series(y)\n",
    "    ids0, ids1 = y[y == 0].index, y[y == 1].index\n",
    "    n = len(ids0)\n",
    "    sampled_ids1 = y[y == 1].sample(n, replace=True).index\n",
    "    index = np.arange(y.index.max() + 1, y.index.max() + n + 1)\n",
    "    nX = X.loc[sampled_ids1]\n",
    "    nX.index = index\n",
    "    nX = pd.concat([nX, X.loc[ids0]], axis=0)\n",
    "    ny = pd.concat([pd.Series(y[sampled_ids1].as_matrix(), index=index), y[ids0]], axis=0)\n",
    "    assert (nX.index == ny.index).all()\n",
    "    return nX.as_matrix(), ny.as_matrix()\n",
    "\n",
    "\n",
    "def good_upsampling(X, y):\n",
    "    X_false, X_true = X[y == 0], X[y == 1]\n",
    "    y_false, y_true = y[y == 0], y[y == 1]\n",
    "    ids = pd.Series(np.arange(len(X_true))).sample(len(X_false), replace=True).index\n",
    "    X = np.vstack([X_false, X_true[ids]])\n",
    "    y = np.hstack([y_false, y_true[ids]]).T\n",
    "    return X, y"
   ]
  },
  {
   "cell_type": "code",
   "execution_count": 59,
   "metadata": {},
   "outputs": [],
   "source": [
    "def make_train_val(X, y, n_folds):\n",
    "    if n_folds == 1:\n",
    "        return (train_test_split(X, y),)\n",
    "    else:\n",
    "        skf = StratifiedKFold(n_splits=n_folds, random_state=0)\n",
    "        return ((X[train_index], X[test_index], y[train_index], y[test_index]) \n",
    "                for train_index, test_index in skf.split(X, y))"
   ]
  },
  {
   "cell_type": "code",
   "execution_count": 79,
   "metadata": {
    "ExecuteTime": {
     "end_time": "2018-05-19T09:20:23.704856Z",
     "start_time": "2018-05-19T09:20:23.685767Z"
    }
   },
   "outputs": [
    {
     "name": "stderr",
     "output_type": "stream",
     "text": [
      "/Users/rebryk/Projects/sibur-env/lib/python3.6/site-packages/lightgbm/basic.py:1036: UserWarning: Using categorical_feature in Dataset.\n",
      "  warnings.warn('Using categorical_feature in Dataset.')\n"
     ]
    },
    {
     "name": "stdout",
     "output_type": "stream",
     "text": [
      "Training until validation scores don't improve for 200 rounds.\n",
      "[50]\ttraining's binary_logloss: 0.664733\tvalid_1's binary_logloss: 0.676701\n",
      "[100]\ttraining's binary_logloss: 0.63919\tvalid_1's binary_logloss: 0.662641\n",
      "[150]\ttraining's binary_logloss: 0.615507\tvalid_1's binary_logloss: 0.649661\n",
      "[200]\ttraining's binary_logloss: 0.593651\tvalid_1's binary_logloss: 0.637874\n",
      "[250]\ttraining's binary_logloss: 0.573519\tvalid_1's binary_logloss: 0.627319\n",
      "[300]\ttraining's binary_logloss: 0.55484\tvalid_1's binary_logloss: 0.617717\n",
      "[350]\ttraining's binary_logloss: 0.537667\tvalid_1's binary_logloss: 0.609375\n",
      "[400]\ttraining's binary_logloss: 0.52161\tvalid_1's binary_logloss: 0.601661\n",
      "[450]\ttraining's binary_logloss: 0.506378\tvalid_1's binary_logloss: 0.594241\n",
      "[500]\ttraining's binary_logloss: 0.4923\tvalid_1's binary_logloss: 0.587499\n",
      "[550]\ttraining's binary_logloss: 0.479617\tvalid_1's binary_logloss: 0.582205\n",
      "[600]\ttraining's binary_logloss: 0.467801\tvalid_1's binary_logloss: 0.577483\n",
      "[650]\ttraining's binary_logloss: 0.456573\tvalid_1's binary_logloss: 0.573027\n",
      "[700]\ttraining's binary_logloss: 0.44632\tvalid_1's binary_logloss: 0.569431\n",
      "[750]\ttraining's binary_logloss: 0.43637\tvalid_1's binary_logloss: 0.565356\n",
      "[800]\ttraining's binary_logloss: 0.426972\tvalid_1's binary_logloss: 0.561832\n",
      "[850]\ttraining's binary_logloss: 0.418237\tvalid_1's binary_logloss: 0.558693\n",
      "[900]\ttraining's binary_logloss: 0.410123\tvalid_1's binary_logloss: 0.556114\n",
      "[950]\ttraining's binary_logloss: 0.402776\tvalid_1's binary_logloss: 0.554115\n",
      "[1000]\ttraining's binary_logloss: 0.394958\tvalid_1's binary_logloss: 0.550798\n",
      "[1050]\ttraining's binary_logloss: 0.387547\tvalid_1's binary_logloss: 0.547744\n",
      "[1100]\ttraining's binary_logloss: 0.379087\tvalid_1's binary_logloss: 0.542627\n",
      "[1150]\ttraining's binary_logloss: 0.371339\tvalid_1's binary_logloss: 0.537954\n",
      "[1200]\ttraining's binary_logloss: 0.364499\tvalid_1's binary_logloss: 0.534439\n",
      "[1250]\ttraining's binary_logloss: 0.357359\tvalid_1's binary_logloss: 0.530133\n",
      "[1300]\ttraining's binary_logloss: 0.349995\tvalid_1's binary_logloss: 0.524923\n",
      "[1350]\ttraining's binary_logloss: 0.342536\tvalid_1's binary_logloss: 0.519479\n",
      "[1400]\ttraining's binary_logloss: 0.335134\tvalid_1's binary_logloss: 0.513573\n",
      "[1450]\ttraining's binary_logloss: 0.32773\tvalid_1's binary_logloss: 0.50759\n",
      "[1500]\ttraining's binary_logloss: 0.320136\tvalid_1's binary_logloss: 0.501193\n",
      "[1550]\ttraining's binary_logloss: 0.313009\tvalid_1's binary_logloss: 0.495331\n",
      "[1600]\ttraining's binary_logloss: 0.305694\tvalid_1's binary_logloss: 0.48899\n",
      "[1650]\ttraining's binary_logloss: 0.298658\tvalid_1's binary_logloss: 0.482987\n",
      "[1700]\ttraining's binary_logloss: 0.292057\tvalid_1's binary_logloss: 0.47768\n",
      "[1750]\ttraining's binary_logloss: 0.285444\tvalid_1's binary_logloss: 0.47182\n",
      "[1800]\ttraining's binary_logloss: 0.279063\tvalid_1's binary_logloss: 0.466182\n",
      "[1850]\ttraining's binary_logloss: 0.272757\tvalid_1's binary_logloss: 0.460698\n",
      "[1900]\ttraining's binary_logloss: 0.266708\tvalid_1's binary_logloss: 0.455139\n",
      "[1950]\ttraining's binary_logloss: 0.261147\tvalid_1's binary_logloss: 0.45031\n",
      "[2000]\ttraining's binary_logloss: 0.255577\tvalid_1's binary_logloss: 0.445362\n",
      "[2050]\ttraining's binary_logloss: 0.249924\tvalid_1's binary_logloss: 0.440257\n",
      "[2100]\ttraining's binary_logloss: 0.244422\tvalid_1's binary_logloss: 0.434992\n",
      "[2150]\ttraining's binary_logloss: 0.239108\tvalid_1's binary_logloss: 0.430252\n",
      "[2200]\ttraining's binary_logloss: 0.234211\tvalid_1's binary_logloss: 0.425943\n",
      "[2250]\ttraining's binary_logloss: 0.229491\tvalid_1's binary_logloss: 0.421424\n",
      "[2300]\ttraining's binary_logloss: 0.224972\tvalid_1's binary_logloss: 0.417254\n",
      "[2350]\ttraining's binary_logloss: 0.220512\tvalid_1's binary_logloss: 0.413126\n",
      "[2400]\ttraining's binary_logloss: 0.216276\tvalid_1's binary_logloss: 0.409232\n",
      "[2450]\ttraining's binary_logloss: 0.211915\tvalid_1's binary_logloss: 0.405128\n",
      "[2500]\ttraining's binary_logloss: 0.207567\tvalid_1's binary_logloss: 0.401003\n",
      "[2550]\ttraining's binary_logloss: 0.203204\tvalid_1's binary_logloss: 0.39671\n",
      "[2600]\ttraining's binary_logloss: 0.199314\tvalid_1's binary_logloss: 0.392933\n",
      "[2650]\ttraining's binary_logloss: 0.195049\tvalid_1's binary_logloss: 0.388389\n",
      "[2700]\ttraining's binary_logloss: 0.191289\tvalid_1's binary_logloss: 0.38479\n",
      "[2750]\ttraining's binary_logloss: 0.187387\tvalid_1's binary_logloss: 0.380887\n",
      "[2800]\ttraining's binary_logloss: 0.18348\tvalid_1's binary_logloss: 0.376848\n",
      "[2850]\ttraining's binary_logloss: 0.179759\tvalid_1's binary_logloss: 0.372946\n",
      "[2900]\ttraining's binary_logloss: 0.176034\tvalid_1's binary_logloss: 0.368897\n",
      "[2950]\ttraining's binary_logloss: 0.172236\tvalid_1's binary_logloss: 0.364832\n",
      "[3000]\ttraining's binary_logloss: 0.168417\tvalid_1's binary_logloss: 0.360684\n",
      "[3050]\ttraining's binary_logloss: 0.164996\tvalid_1's binary_logloss: 0.357169\n",
      "[3100]\ttraining's binary_logloss: 0.161285\tvalid_1's binary_logloss: 0.352876\n",
      "[3150]\ttraining's binary_logloss: 0.15769\tvalid_1's binary_logloss: 0.348714\n",
      "[3200]\ttraining's binary_logloss: 0.154345\tvalid_1's binary_logloss: 0.344996\n",
      "[3250]\ttraining's binary_logloss: 0.151081\tvalid_1's binary_logloss: 0.341364\n",
      "[3300]\ttraining's binary_logloss: 0.147729\tvalid_1's binary_logloss: 0.337639\n",
      "[3350]\ttraining's binary_logloss: 0.144501\tvalid_1's binary_logloss: 0.334021\n",
      "[3400]\ttraining's binary_logloss: 0.141228\tvalid_1's binary_logloss: 0.33007\n",
      "[3450]\ttraining's binary_logloss: 0.138002\tvalid_1's binary_logloss: 0.326307\n",
      "[3500]\ttraining's binary_logloss: 0.135023\tvalid_1's binary_logloss: 0.322922\n",
      "[3550]\ttraining's binary_logloss: 0.132147\tvalid_1's binary_logloss: 0.319571\n",
      "[3600]\ttraining's binary_logloss: 0.129212\tvalid_1's binary_logloss: 0.316319\n",
      "[3650]\ttraining's binary_logloss: 0.126394\tvalid_1's binary_logloss: 0.312936\n",
      "[3700]\ttraining's binary_logloss: 0.123626\tvalid_1's binary_logloss: 0.309707\n",
      "[3750]\ttraining's binary_logloss: 0.120929\tvalid_1's binary_logloss: 0.306576\n",
      "[3800]\ttraining's binary_logloss: 0.118386\tvalid_1's binary_logloss: 0.303664\n",
      "[3850]\ttraining's binary_logloss: 0.115853\tvalid_1's binary_logloss: 0.300823\n",
      "[3900]\ttraining's binary_logloss: 0.113367\tvalid_1's binary_logloss: 0.297811\n",
      "[3950]\ttraining's binary_logloss: 0.110811\tvalid_1's binary_logloss: 0.294814\n",
      "[4000]\ttraining's binary_logloss: 0.108521\tvalid_1's binary_logloss: 0.292109\n",
      "[4050]\ttraining's binary_logloss: 0.106145\tvalid_1's binary_logloss: 0.289172\n",
      "[4100]\ttraining's binary_logloss: 0.103791\tvalid_1's binary_logloss: 0.286341\n",
      "[4150]\ttraining's binary_logloss: 0.101576\tvalid_1's binary_logloss: 0.28373\n",
      "[4200]\ttraining's binary_logloss: 0.099198\tvalid_1's binary_logloss: 0.280786\n",
      "[4250]\ttraining's binary_logloss: 0.0969548\tvalid_1's binary_logloss: 0.278002\n",
      "[4300]\ttraining's binary_logloss: 0.0948615\tvalid_1's binary_logloss: 0.275541\n",
      "[4350]\ttraining's binary_logloss: 0.0927302\tvalid_1's binary_logloss: 0.272889\n",
      "[4400]\ttraining's binary_logloss: 0.0906964\tvalid_1's binary_logloss: 0.270331\n",
      "[4450]\ttraining's binary_logloss: 0.088622\tvalid_1's binary_logloss: 0.267784\n",
      "[4500]\ttraining's binary_logloss: 0.0867966\tvalid_1's binary_logloss: 0.265601\n",
      "[4550]\ttraining's binary_logloss: 0.08476\tvalid_1's binary_logloss: 0.263087\n",
      "[4600]\ttraining's binary_logloss: 0.0828856\tvalid_1's binary_logloss: 0.260813\n",
      "[4650]\ttraining's binary_logloss: 0.0811167\tvalid_1's binary_logloss: 0.258542\n",
      "[4700]\ttraining's binary_logloss: 0.0793775\tvalid_1's binary_logloss: 0.256617\n",
      "[4750]\ttraining's binary_logloss: 0.077706\tvalid_1's binary_logloss: 0.254635\n",
      "[4800]\ttraining's binary_logloss: 0.0760455\tvalid_1's binary_logloss: 0.252624\n",
      "[4850]\ttraining's binary_logloss: 0.074389\tvalid_1's binary_logloss: 0.250624\n",
      "[4900]\ttraining's binary_logloss: 0.0727629\tvalid_1's binary_logloss: 0.248642\n",
      "[4950]\ttraining's binary_logloss: 0.0710466\tvalid_1's binary_logloss: 0.246511\n",
      "[5000]\ttraining's binary_logloss: 0.0694659\tvalid_1's binary_logloss: 0.244677\n",
      "[5050]\ttraining's binary_logloss: 0.0679237\tvalid_1's binary_logloss: 0.242805\n",
      "[5100]\ttraining's binary_logloss: 0.0664361\tvalid_1's binary_logloss: 0.240956\n",
      "[5150]\ttraining's binary_logloss: 0.0649926\tvalid_1's binary_logloss: 0.239101\n",
      "[5200]\ttraining's binary_logloss: 0.0635208\tvalid_1's binary_logloss: 0.237345\n",
      "[5250]\ttraining's binary_logloss: 0.0621092\tvalid_1's binary_logloss: 0.235797\n"
     ]
    },
    {
     "name": "stdout",
     "output_type": "stream",
     "text": [
      "[5300]\ttraining's binary_logloss: 0.0606944\tvalid_1's binary_logloss: 0.234135\n",
      "[5350]\ttraining's binary_logloss: 0.0593568\tvalid_1's binary_logloss: 0.232631\n",
      "[5400]\ttraining's binary_logloss: 0.057945\tvalid_1's binary_logloss: 0.231067\n",
      "[5450]\ttraining's binary_logloss: 0.0567152\tvalid_1's binary_logloss: 0.229581\n",
      "[5500]\ttraining's binary_logloss: 0.0555161\tvalid_1's binary_logloss: 0.228132\n",
      "[5550]\ttraining's binary_logloss: 0.0542821\tvalid_1's binary_logloss: 0.226585\n",
      "[5600]\ttraining's binary_logloss: 0.0530806\tvalid_1's binary_logloss: 0.225207\n",
      "[5650]\ttraining's binary_logloss: 0.0519499\tvalid_1's binary_logloss: 0.223811\n",
      "[5700]\ttraining's binary_logloss: 0.0508543\tvalid_1's binary_logloss: 0.222505\n",
      "[5750]\ttraining's binary_logloss: 0.0497056\tvalid_1's binary_logloss: 0.221208\n",
      "[5800]\ttraining's binary_logloss: 0.0486185\tvalid_1's binary_logloss: 0.219976\n",
      "[5850]\ttraining's binary_logloss: 0.0475448\tvalid_1's binary_logloss: 0.21865\n",
      "[5900]\ttraining's binary_logloss: 0.0465765\tvalid_1's binary_logloss: 0.21754\n",
      "[5950]\ttraining's binary_logloss: 0.0455605\tvalid_1's binary_logloss: 0.216397\n",
      "[6000]\ttraining's binary_logloss: 0.0445646\tvalid_1's binary_logloss: 0.215221\n",
      "[6050]\ttraining's binary_logloss: 0.043637\tvalid_1's binary_logloss: 0.214003\n",
      "[6100]\ttraining's binary_logloss: 0.0427308\tvalid_1's binary_logloss: 0.212923\n",
      "[6150]\ttraining's binary_logloss: 0.0418182\tvalid_1's binary_logloss: 0.211898\n",
      "[6200]\ttraining's binary_logloss: 0.0408881\tvalid_1's binary_logloss: 0.21074\n",
      "[6250]\ttraining's binary_logloss: 0.0400215\tvalid_1's binary_logloss: 0.209742\n",
      "[6300]\ttraining's binary_logloss: 0.0391322\tvalid_1's binary_logloss: 0.208677\n",
      "[6350]\ttraining's binary_logloss: 0.0383147\tvalid_1's binary_logloss: 0.207766\n",
      "[6400]\ttraining's binary_logloss: 0.037504\tvalid_1's binary_logloss: 0.206749\n",
      "[6450]\ttraining's binary_logloss: 0.0367085\tvalid_1's binary_logloss: 0.205731\n",
      "[6500]\ttraining's binary_logloss: 0.0359493\tvalid_1's binary_logloss: 0.204863\n",
      "[6550]\ttraining's binary_logloss: 0.0351867\tvalid_1's binary_logloss: 0.20411\n",
      "[6600]\ttraining's binary_logloss: 0.0344469\tvalid_1's binary_logloss: 0.203225\n",
      "[6650]\ttraining's binary_logloss: 0.0337344\tvalid_1's binary_logloss: 0.202457\n",
      "[6700]\ttraining's binary_logloss: 0.0330086\tvalid_1's binary_logloss: 0.201602\n",
      "[6750]\ttraining's binary_logloss: 0.0323132\tvalid_1's binary_logloss: 0.200801\n",
      "[6800]\ttraining's binary_logloss: 0.0316446\tvalid_1's binary_logloss: 0.200116\n",
      "[6850]\ttraining's binary_logloss: 0.0309804\tvalid_1's binary_logloss: 0.199334\n",
      "[6900]\ttraining's binary_logloss: 0.0303346\tvalid_1's binary_logloss: 0.198613\n",
      "[6950]\ttraining's binary_logloss: 0.0296713\tvalid_1's binary_logloss: 0.197986\n",
      "[7000]\ttraining's binary_logloss: 0.0290461\tvalid_1's binary_logloss: 0.197242\n",
      "[7050]\ttraining's binary_logloss: 0.0284632\tvalid_1's binary_logloss: 0.196587\n",
      "[7100]\ttraining's binary_logloss: 0.0278847\tvalid_1's binary_logloss: 0.195908\n",
      "[7150]\ttraining's binary_logloss: 0.027255\tvalid_1's binary_logloss: 0.195226\n",
      "[7200]\ttraining's binary_logloss: 0.0266743\tvalid_1's binary_logloss: 0.194633\n",
      "[7250]\ttraining's binary_logloss: 0.0260995\tvalid_1's binary_logloss: 0.194026\n",
      "[7300]\ttraining's binary_logloss: 0.0255475\tvalid_1's binary_logloss: 0.193416\n",
      "[7350]\ttraining's binary_logloss: 0.0250285\tvalid_1's binary_logloss: 0.192849\n",
      "[7400]\ttraining's binary_logloss: 0.0245368\tvalid_1's binary_logloss: 0.192274\n",
      "[7450]\ttraining's binary_logloss: 0.0240426\tvalid_1's binary_logloss: 0.191784\n",
      "[7500]\ttraining's binary_logloss: 0.0235361\tvalid_1's binary_logloss: 0.191285\n",
      "[7550]\ttraining's binary_logloss: 0.0230777\tvalid_1's binary_logloss: 0.190831\n",
      "[7600]\ttraining's binary_logloss: 0.0226026\tvalid_1's binary_logloss: 0.190363\n",
      "[7650]\ttraining's binary_logloss: 0.0221088\tvalid_1's binary_logloss: 0.189878\n",
      "[7700]\ttraining's binary_logloss: 0.0216864\tvalid_1's binary_logloss: 0.189405\n",
      "[7750]\ttraining's binary_logloss: 0.0212522\tvalid_1's binary_logloss: 0.189\n",
      "[7800]\ttraining's binary_logloss: 0.0208249\tvalid_1's binary_logloss: 0.188572\n",
      "[7850]\ttraining's binary_logloss: 0.0204189\tvalid_1's binary_logloss: 0.188181\n",
      "[7900]\ttraining's binary_logloss: 0.0200047\tvalid_1's binary_logloss: 0.187806\n",
      "[7950]\ttraining's binary_logloss: 0.0196063\tvalid_1's binary_logloss: 0.187388\n",
      "[8000]\ttraining's binary_logloss: 0.0192193\tvalid_1's binary_logloss: 0.186913\n",
      "[8050]\ttraining's binary_logloss: 0.0188314\tvalid_1's binary_logloss: 0.18648\n",
      "[8100]\ttraining's binary_logloss: 0.0184438\tvalid_1's binary_logloss: 0.186036\n",
      "[8150]\ttraining's binary_logloss: 0.0180632\tvalid_1's binary_logloss: 0.18561\n",
      "[8200]\ttraining's binary_logloss: 0.0177049\tvalid_1's binary_logloss: 0.185269\n",
      "[8250]\ttraining's binary_logloss: 0.0173424\tvalid_1's binary_logloss: 0.184834\n",
      "[8300]\ttraining's binary_logloss: 0.0169872\tvalid_1's binary_logloss: 0.184418\n",
      "[8350]\ttraining's binary_logloss: 0.0166512\tvalid_1's binary_logloss: 0.184111\n",
      "[8400]\ttraining's binary_logloss: 0.016311\tvalid_1's binary_logloss: 0.1838\n",
      "[8450]\ttraining's binary_logloss: 0.0159822\tvalid_1's binary_logloss: 0.183524\n",
      "[8500]\ttraining's binary_logloss: 0.015657\tvalid_1's binary_logloss: 0.183201\n",
      "[8550]\ttraining's binary_logloss: 0.0153438\tvalid_1's binary_logloss: 0.182889\n",
      "[8600]\ttraining's binary_logloss: 0.0150295\tvalid_1's binary_logloss: 0.18254\n",
      "[8650]\ttraining's binary_logloss: 0.0147223\tvalid_1's binary_logloss: 0.182303\n",
      "[8700]\ttraining's binary_logloss: 0.0144278\tvalid_1's binary_logloss: 0.182089\n",
      "[8750]\ttraining's binary_logloss: 0.0141628\tvalid_1's binary_logloss: 0.181828\n",
      "[8800]\ttraining's binary_logloss: 0.013901\tvalid_1's binary_logloss: 0.181627\n",
      "[8850]\ttraining's binary_logloss: 0.0136176\tvalid_1's binary_logloss: 0.181339\n",
      "[8900]\ttraining's binary_logloss: 0.0133555\tvalid_1's binary_logloss: 0.181094\n",
      "[8950]\ttraining's binary_logloss: 0.0130974\tvalid_1's binary_logloss: 0.180876\n",
      "[9000]\ttraining's binary_logloss: 0.0128351\tvalid_1's binary_logloss: 0.180698\n",
      "[9050]\ttraining's binary_logloss: 0.01259\tvalid_1's binary_logloss: 0.180514\n",
      "[9100]\ttraining's binary_logloss: 0.012338\tvalid_1's binary_logloss: 0.180431\n",
      "[9150]\ttraining's binary_logloss: 0.012082\tvalid_1's binary_logloss: 0.180279\n",
      "[9200]\ttraining's binary_logloss: 0.0118427\tvalid_1's binary_logloss: 0.180116\n",
      "[9250]\ttraining's binary_logloss: 0.0116004\tvalid_1's binary_logloss: 0.17996\n",
      "[9300]\ttraining's binary_logloss: 0.011376\tvalid_1's binary_logloss: 0.179771\n",
      "[9350]\ttraining's binary_logloss: 0.0111422\tvalid_1's binary_logloss: 0.179577\n",
      "[9400]\ttraining's binary_logloss: 0.0109123\tvalid_1's binary_logloss: 0.179396\n",
      "[9450]\ttraining's binary_logloss: 0.0107183\tvalid_1's binary_logloss: 0.179241\n",
      "[9500]\ttraining's binary_logloss: 0.0105156\tvalid_1's binary_logloss: 0.179172\n",
      "[9550]\ttraining's binary_logloss: 0.0102976\tvalid_1's binary_logloss: 0.17908\n",
      "[9600]\ttraining's binary_logloss: 0.0101049\tvalid_1's binary_logloss: 0.178947\n",
      "[9650]\ttraining's binary_logloss: 0.00991288\tvalid_1's binary_logloss: 0.17883\n",
      "[9700]\ttraining's binary_logloss: 0.00971858\tvalid_1's binary_logloss: 0.178677\n",
      "[9750]\ttraining's binary_logloss: 0.00953922\tvalid_1's binary_logloss: 0.178513\n",
      "[9800]\ttraining's binary_logloss: 0.00935201\tvalid_1's binary_logloss: 0.178383\n",
      "[9850]\ttraining's binary_logloss: 0.00917005\tvalid_1's binary_logloss: 0.178322\n",
      "[9900]\ttraining's binary_logloss: 0.00898309\tvalid_1's binary_logloss: 0.178311\n",
      "[9950]\ttraining's binary_logloss: 0.0088089\tvalid_1's binary_logloss: 0.178223\n",
      "[10000]\ttraining's binary_logloss: 0.00863683\tvalid_1's binary_logloss: 0.178164\n",
      "Did not meet early stopping. Best iteration is:\n",
      "[10000]\ttraining's binary_logloss: 0.00863683\tvalid_1's binary_logloss: 0.178164\n",
      "Training until validation scores don't improve for 200 rounds.\n",
      "[50]\ttraining's binary_logloss: 0.669059\tvalid_1's binary_logloss: 0.682165\n",
      "[100]\ttraining's binary_logloss: 0.645799\tvalid_1's binary_logloss: 0.670356\n",
      "[150]\ttraining's binary_logloss: 0.625645\tvalid_1's binary_logloss: 0.661491\n",
      "[200]\ttraining's binary_logloss: 0.606364\tvalid_1's binary_logloss: 0.652304\n",
      "[250]\ttraining's binary_logloss: 0.587851\tvalid_1's binary_logloss: 0.642936\n",
      "[300]\ttraining's binary_logloss: 0.571047\tvalid_1's binary_logloss: 0.634993\n",
      "[350]\ttraining's binary_logloss: 0.555984\tvalid_1's binary_logloss: 0.628308\n"
     ]
    },
    {
     "name": "stdout",
     "output_type": "stream",
     "text": [
      "[400]\ttraining's binary_logloss: 0.541437\tvalid_1's binary_logloss: 0.621503\n",
      "[450]\ttraining's binary_logloss: 0.526938\tvalid_1's binary_logloss: 0.613905\n",
      "[500]\ttraining's binary_logloss: 0.514224\tvalid_1's binary_logloss: 0.608103\n",
      "[550]\ttraining's binary_logloss: 0.501868\tvalid_1's binary_logloss: 0.601878\n",
      "[600]\ttraining's binary_logloss: 0.489946\tvalid_1's binary_logloss: 0.595603\n",
      "[650]\ttraining's binary_logloss: 0.479237\tvalid_1's binary_logloss: 0.590464\n",
      "[700]\ttraining's binary_logloss: 0.468152\tvalid_1's binary_logloss: 0.584163\n",
      "[750]\ttraining's binary_logloss: 0.457691\tvalid_1's binary_logloss: 0.578285\n",
      "[800]\ttraining's binary_logloss: 0.448475\tvalid_1's binary_logloss: 0.573674\n",
      "[850]\ttraining's binary_logloss: 0.439011\tvalid_1's binary_logloss: 0.568123\n",
      "[900]\ttraining's binary_logloss: 0.429972\tvalid_1's binary_logloss: 0.563031\n",
      "[950]\ttraining's binary_logloss: 0.421479\tvalid_1's binary_logloss: 0.558038\n",
      "[1000]\ttraining's binary_logloss: 0.413134\tvalid_1's binary_logloss: 0.552963\n",
      "[1050]\ttraining's binary_logloss: 0.405088\tvalid_1's binary_logloss: 0.54788\n",
      "[1100]\ttraining's binary_logloss: 0.397372\tvalid_1's binary_logloss: 0.543163\n",
      "[1150]\ttraining's binary_logloss: 0.389945\tvalid_1's binary_logloss: 0.538416\n",
      "[1200]\ttraining's binary_logloss: 0.382586\tvalid_1's binary_logloss: 0.533231\n",
      "[1250]\ttraining's binary_logloss: 0.375177\tvalid_1's binary_logloss: 0.527947\n",
      "[1300]\ttraining's binary_logloss: 0.367919\tvalid_1's binary_logloss: 0.522633\n",
      "[1350]\ttraining's binary_logloss: 0.361353\tvalid_1's binary_logloss: 0.51777\n",
      "[1400]\ttraining's binary_logloss: 0.354561\tvalid_1's binary_logloss: 0.512625\n",
      "[1450]\ttraining's binary_logloss: 0.347453\tvalid_1's binary_logloss: 0.506496\n",
      "[1500]\ttraining's binary_logloss: 0.340662\tvalid_1's binary_logloss: 0.500792\n",
      "[1550]\ttraining's binary_logloss: 0.333727\tvalid_1's binary_logloss: 0.494636\n",
      "[1600]\ttraining's binary_logloss: 0.326931\tvalid_1's binary_logloss: 0.488582\n",
      "[1650]\ttraining's binary_logloss: 0.32006\tvalid_1's binary_logloss: 0.482107\n",
      "[1700]\ttraining's binary_logloss: 0.313468\tvalid_1's binary_logloss: 0.475984\n",
      "[1750]\ttraining's binary_logloss: 0.307188\tvalid_1's binary_logloss: 0.470289\n",
      "[1800]\ttraining's binary_logloss: 0.300925\tvalid_1's binary_logloss: 0.464464\n",
      "[1850]\ttraining's binary_logloss: 0.294564\tvalid_1's binary_logloss: 0.458266\n",
      "[1900]\ttraining's binary_logloss: 0.288736\tvalid_1's binary_logloss: 0.452982\n",
      "[1950]\ttraining's binary_logloss: 0.282928\tvalid_1's binary_logloss: 0.44754\n",
      "[2000]\ttraining's binary_logloss: 0.27675\tvalid_1's binary_logloss: 0.441183\n",
      "[2050]\ttraining's binary_logloss: 0.271013\tvalid_1's binary_logloss: 0.435347\n",
      "[2100]\ttraining's binary_logloss: 0.265294\tvalid_1's binary_logloss: 0.429576\n",
      "[2150]\ttraining's binary_logloss: 0.259753\tvalid_1's binary_logloss: 0.424024\n",
      "[2200]\ttraining's binary_logloss: 0.254472\tvalid_1's binary_logloss: 0.418546\n",
      "[2250]\ttraining's binary_logloss: 0.249389\tvalid_1's binary_logloss: 0.413349\n",
      "[2300]\ttraining's binary_logloss: 0.244455\tvalid_1's binary_logloss: 0.40821\n",
      "[2350]\ttraining's binary_logloss: 0.239431\tvalid_1's binary_logloss: 0.402999\n",
      "[2400]\ttraining's binary_logloss: 0.234798\tvalid_1's binary_logloss: 0.398259\n",
      "[2450]\ttraining's binary_logloss: 0.230203\tvalid_1's binary_logloss: 0.3934\n",
      "[2500]\ttraining's binary_logloss: 0.225575\tvalid_1's binary_logloss: 0.388628\n",
      "[2550]\ttraining's binary_logloss: 0.220841\tvalid_1's binary_logloss: 0.38362\n",
      "[2600]\ttraining's binary_logloss: 0.216027\tvalid_1's binary_logloss: 0.378144\n",
      "[2650]\ttraining's binary_logloss: 0.211748\tvalid_1's binary_logloss: 0.373678\n",
      "[2700]\ttraining's binary_logloss: 0.20738\tvalid_1's binary_logloss: 0.369184\n",
      "[2750]\ttraining's binary_logloss: 0.20322\tvalid_1's binary_logloss: 0.364696\n",
      "[2800]\ttraining's binary_logloss: 0.199094\tvalid_1's binary_logloss: 0.36\n",
      "[2850]\ttraining's binary_logloss: 0.195145\tvalid_1's binary_logloss: 0.355626\n",
      "[2900]\ttraining's binary_logloss: 0.191131\tvalid_1's binary_logloss: 0.351316\n",
      "[2950]\ttraining's binary_logloss: 0.186995\tvalid_1's binary_logloss: 0.34686\n",
      "[3000]\ttraining's binary_logloss: 0.183127\tvalid_1's binary_logloss: 0.342749\n",
      "[3050]\ttraining's binary_logloss: 0.179472\tvalid_1's binary_logloss: 0.338637\n",
      "[3100]\ttraining's binary_logloss: 0.175649\tvalid_1's binary_logloss: 0.334349\n",
      "[3150]\ttraining's binary_logloss: 0.171855\tvalid_1's binary_logloss: 0.330064\n",
      "[3200]\ttraining's binary_logloss: 0.168235\tvalid_1's binary_logloss: 0.325951\n",
      "[3250]\ttraining's binary_logloss: 0.164732\tvalid_1's binary_logloss: 0.322151\n",
      "[3300]\ttraining's binary_logloss: 0.161069\tvalid_1's binary_logloss: 0.317955\n",
      "[3350]\ttraining's binary_logloss: 0.157798\tvalid_1's binary_logloss: 0.314294\n",
      "[3400]\ttraining's binary_logloss: 0.154476\tvalid_1's binary_logloss: 0.310547\n",
      "[3450]\ttraining's binary_logloss: 0.151085\tvalid_1's binary_logloss: 0.306565\n",
      "[3500]\ttraining's binary_logloss: 0.147961\tvalid_1's binary_logloss: 0.303066\n",
      "[3550]\ttraining's binary_logloss: 0.144776\tvalid_1's binary_logloss: 0.299438\n",
      "[3600]\ttraining's binary_logloss: 0.141752\tvalid_1's binary_logloss: 0.296071\n",
      "[3650]\ttraining's binary_logloss: 0.138799\tvalid_1's binary_logloss: 0.292842\n",
      "[3700]\ttraining's binary_logloss: 0.135886\tvalid_1's binary_logloss: 0.289605\n",
      "[3750]\ttraining's binary_logloss: 0.133139\tvalid_1's binary_logloss: 0.286422\n",
      "[3800]\ttraining's binary_logloss: 0.13033\tvalid_1's binary_logloss: 0.283297\n",
      "[3850]\ttraining's binary_logloss: 0.127614\tvalid_1's binary_logloss: 0.280297\n",
      "[3900]\ttraining's binary_logloss: 0.124799\tvalid_1's binary_logloss: 0.276991\n",
      "[3950]\ttraining's binary_logloss: 0.122126\tvalid_1's binary_logloss: 0.2739\n",
      "[4000]\ttraining's binary_logloss: 0.119522\tvalid_1's binary_logloss: 0.270852\n",
      "[4050]\ttraining's binary_logloss: 0.116961\tvalid_1's binary_logloss: 0.267711\n",
      "[4100]\ttraining's binary_logloss: 0.114481\tvalid_1's binary_logloss: 0.264821\n",
      "[4150]\ttraining's binary_logloss: 0.11194\tvalid_1's binary_logloss: 0.262052\n",
      "[4200]\ttraining's binary_logloss: 0.109699\tvalid_1's binary_logloss: 0.259543\n",
      "[4250]\ttraining's binary_logloss: 0.107426\tvalid_1's binary_logloss: 0.256779\n",
      "[4300]\ttraining's binary_logloss: 0.105211\tvalid_1's binary_logloss: 0.254125\n",
      "[4350]\ttraining's binary_logloss: 0.102969\tvalid_1's binary_logloss: 0.251576\n",
      "[4400]\ttraining's binary_logloss: 0.10076\tvalid_1's binary_logloss: 0.249063\n",
      "[4450]\ttraining's binary_logloss: 0.0985992\tvalid_1's binary_logloss: 0.24653\n",
      "[4500]\ttraining's binary_logloss: 0.0965142\tvalid_1's binary_logloss: 0.244193\n",
      "[4550]\ttraining's binary_logloss: 0.0944647\tvalid_1's binary_logloss: 0.242043\n",
      "[4600]\ttraining's binary_logloss: 0.0925093\tvalid_1's binary_logloss: 0.239714\n",
      "[4650]\ttraining's binary_logloss: 0.090678\tvalid_1's binary_logloss: 0.237627\n",
      "[4700]\ttraining's binary_logloss: 0.0886726\tvalid_1's binary_logloss: 0.235359\n",
      "[4750]\ttraining's binary_logloss: 0.0868195\tvalid_1's binary_logloss: 0.233098\n",
      "[4800]\ttraining's binary_logloss: 0.0850276\tvalid_1's binary_logloss: 0.23093\n",
      "[4850]\ttraining's binary_logloss: 0.083227\tvalid_1's binary_logloss: 0.228908\n",
      "[4900]\ttraining's binary_logloss: 0.0814889\tvalid_1's binary_logloss: 0.226859\n",
      "[4950]\ttraining's binary_logloss: 0.0796328\tvalid_1's binary_logloss: 0.22475\n",
      "[5000]\ttraining's binary_logloss: 0.0780047\tvalid_1's binary_logloss: 0.223042\n",
      "[5050]\ttraining's binary_logloss: 0.0763506\tvalid_1's binary_logloss: 0.221146\n",
      "[5100]\ttraining's binary_logloss: 0.0746628\tvalid_1's binary_logloss: 0.219164\n",
      "[5150]\ttraining's binary_logloss: 0.0730773\tvalid_1's binary_logloss: 0.217347\n",
      "[5200]\ttraining's binary_logloss: 0.071545\tvalid_1's binary_logloss: 0.215659\n",
      "[5250]\ttraining's binary_logloss: 0.0700765\tvalid_1's binary_logloss: 0.214099\n",
      "[5300]\ttraining's binary_logloss: 0.0685834\tvalid_1's binary_logloss: 0.212396\n",
      "[5350]\ttraining's binary_logloss: 0.0671766\tvalid_1's binary_logloss: 0.210811\n",
      "[5400]\ttraining's binary_logloss: 0.0657829\tvalid_1's binary_logloss: 0.209208\n",
      "[5450]\ttraining's binary_logloss: 0.064485\tvalid_1's binary_logloss: 0.207783\n",
      "[5500]\ttraining's binary_logloss: 0.0630353\tvalid_1's binary_logloss: 0.206099\n",
      "[5550]\ttraining's binary_logloss: 0.0617608\tvalid_1's binary_logloss: 0.204639\n",
      "[5600]\ttraining's binary_logloss: 0.0604111\tvalid_1's binary_logloss: 0.20303\n",
      "[5650]\ttraining's binary_logloss: 0.059137\tvalid_1's binary_logloss: 0.201494\n"
     ]
    },
    {
     "name": "stdout",
     "output_type": "stream",
     "text": [
      "[5700]\ttraining's binary_logloss: 0.0579258\tvalid_1's binary_logloss: 0.200115\n",
      "[5750]\ttraining's binary_logloss: 0.0566669\tvalid_1's binary_logloss: 0.198765\n",
      "[5800]\ttraining's binary_logloss: 0.0554698\tvalid_1's binary_logloss: 0.197416\n",
      "[5850]\ttraining's binary_logloss: 0.0544011\tvalid_1's binary_logloss: 0.196192\n",
      "[5900]\ttraining's binary_logloss: 0.0533159\tvalid_1's binary_logloss: 0.194997\n",
      "[5950]\ttraining's binary_logloss: 0.0521921\tvalid_1's binary_logloss: 0.193723\n",
      "[6000]\ttraining's binary_logloss: 0.0511008\tvalid_1's binary_logloss: 0.192515\n",
      "[6050]\ttraining's binary_logloss: 0.0500186\tvalid_1's binary_logloss: 0.191289\n",
      "[6100]\ttraining's binary_logloss: 0.0489652\tvalid_1's binary_logloss: 0.190134\n",
      "[6150]\ttraining's binary_logloss: 0.0480299\tvalid_1's binary_logloss: 0.189023\n",
      "[6200]\ttraining's binary_logloss: 0.0470324\tvalid_1's binary_logloss: 0.187875\n",
      "[6250]\ttraining's binary_logloss: 0.0460556\tvalid_1's binary_logloss: 0.186697\n",
      "[6300]\ttraining's binary_logloss: 0.0450916\tvalid_1's binary_logloss: 0.185668\n",
      "[6350]\ttraining's binary_logloss: 0.0441409\tvalid_1's binary_logloss: 0.184626\n",
      "[6400]\ttraining's binary_logloss: 0.0432184\tvalid_1's binary_logloss: 0.183422\n",
      "[6450]\ttraining's binary_logloss: 0.0423049\tvalid_1's binary_logloss: 0.182214\n",
      "[6500]\ttraining's binary_logloss: 0.0413964\tvalid_1's binary_logloss: 0.181069\n",
      "[6550]\ttraining's binary_logloss: 0.040549\tvalid_1's binary_logloss: 0.180229\n",
      "[6600]\ttraining's binary_logloss: 0.0397024\tvalid_1's binary_logloss: 0.17918\n",
      "[6650]\ttraining's binary_logloss: 0.0388817\tvalid_1's binary_logloss: 0.178286\n",
      "[6700]\ttraining's binary_logloss: 0.0380789\tvalid_1's binary_logloss: 0.177475\n",
      "[6750]\ttraining's binary_logloss: 0.0373305\tvalid_1's binary_logloss: 0.176648\n",
      "[6800]\ttraining's binary_logloss: 0.0365581\tvalid_1's binary_logloss: 0.175768\n",
      "[6850]\ttraining's binary_logloss: 0.0358075\tvalid_1's binary_logloss: 0.17507\n",
      "[6900]\ttraining's binary_logloss: 0.035092\tvalid_1's binary_logloss: 0.174289\n",
      "[6950]\ttraining's binary_logloss: 0.0343768\tvalid_1's binary_logloss: 0.173347\n",
      "[7000]\ttraining's binary_logloss: 0.0336217\tvalid_1's binary_logloss: 0.172475\n",
      "[7050]\ttraining's binary_logloss: 0.0329204\tvalid_1's binary_logloss: 0.171709\n",
      "[7100]\ttraining's binary_logloss: 0.0322472\tvalid_1's binary_logloss: 0.170982\n",
      "[7150]\ttraining's binary_logloss: 0.0315612\tvalid_1's binary_logloss: 0.170253\n",
      "[7200]\ttraining's binary_logloss: 0.0309264\tvalid_1's binary_logloss: 0.169518\n",
      "[7250]\ttraining's binary_logloss: 0.0302972\tvalid_1's binary_logloss: 0.168701\n",
      "[7300]\ttraining's binary_logloss: 0.0297057\tvalid_1's binary_logloss: 0.168002\n",
      "[7350]\ttraining's binary_logloss: 0.0291191\tvalid_1's binary_logloss: 0.167245\n",
      "[7400]\ttraining's binary_logloss: 0.0285487\tvalid_1's binary_logloss: 0.166647\n",
      "[7450]\ttraining's binary_logloss: 0.0279702\tvalid_1's binary_logloss: 0.165937\n",
      "[7500]\ttraining's binary_logloss: 0.0274227\tvalid_1's binary_logloss: 0.165421\n",
      "[7550]\ttraining's binary_logloss: 0.0268616\tvalid_1's binary_logloss: 0.164748\n",
      "[7600]\ttraining's binary_logloss: 0.0263357\tvalid_1's binary_logloss: 0.164159\n",
      "[7650]\ttraining's binary_logloss: 0.025834\tvalid_1's binary_logloss: 0.163531\n",
      "[7700]\ttraining's binary_logloss: 0.0253226\tvalid_1's binary_logloss: 0.162965\n",
      "[7750]\ttraining's binary_logloss: 0.0248048\tvalid_1's binary_logloss: 0.162421\n",
      "[7800]\ttraining's binary_logloss: 0.0243244\tvalid_1's binary_logloss: 0.161871\n",
      "[7850]\ttraining's binary_logloss: 0.0238348\tvalid_1's binary_logloss: 0.161252\n",
      "[7900]\ttraining's binary_logloss: 0.0233554\tvalid_1's binary_logloss: 0.160654\n",
      "[7950]\ttraining's binary_logloss: 0.0228803\tvalid_1's binary_logloss: 0.160086\n",
      "[8000]\ttraining's binary_logloss: 0.0224232\tvalid_1's binary_logloss: 0.159529\n",
      "[8050]\ttraining's binary_logloss: 0.0219726\tvalid_1's binary_logloss: 0.159007\n",
      "[8100]\ttraining's binary_logloss: 0.0215252\tvalid_1's binary_logloss: 0.158378\n",
      "[8150]\ttraining's binary_logloss: 0.0210822\tvalid_1's binary_logloss: 0.157813\n",
      "[8200]\ttraining's binary_logloss: 0.0206639\tvalid_1's binary_logloss: 0.157234\n",
      "[8250]\ttraining's binary_logloss: 0.0202714\tvalid_1's binary_logloss: 0.156836\n",
      "[8300]\ttraining's binary_logloss: 0.0198728\tvalid_1's binary_logloss: 0.156485\n",
      "[8350]\ttraining's binary_logloss: 0.0194731\tvalid_1's binary_logloss: 0.156014\n",
      "[8400]\ttraining's binary_logloss: 0.0190729\tvalid_1's binary_logloss: 0.155622\n",
      "[8450]\ttraining's binary_logloss: 0.0186976\tvalid_1's binary_logloss: 0.155201\n",
      "[8500]\ttraining's binary_logloss: 0.0183199\tvalid_1's binary_logloss: 0.154691\n",
      "[8550]\ttraining's binary_logloss: 0.0179538\tvalid_1's binary_logloss: 0.154255\n",
      "[8600]\ttraining's binary_logloss: 0.0176088\tvalid_1's binary_logloss: 0.153828\n",
      "[8650]\ttraining's binary_logloss: 0.0172555\tvalid_1's binary_logloss: 0.153426\n",
      "[8700]\ttraining's binary_logloss: 0.0169099\tvalid_1's binary_logloss: 0.152953\n",
      "[8750]\ttraining's binary_logloss: 0.0165822\tvalid_1's binary_logloss: 0.152595\n",
      "[8800]\ttraining's binary_logloss: 0.0162617\tvalid_1's binary_logloss: 0.152116\n",
      "[8850]\ttraining's binary_logloss: 0.0159525\tvalid_1's binary_logloss: 0.151822\n",
      "[8900]\ttraining's binary_logloss: 0.015627\tvalid_1's binary_logloss: 0.151524\n",
      "[8950]\ttraining's binary_logloss: 0.0153206\tvalid_1's binary_logloss: 0.1512\n",
      "[9000]\ttraining's binary_logloss: 0.0150241\tvalid_1's binary_logloss: 0.150884\n",
      "[9050]\ttraining's binary_logloss: 0.0147261\tvalid_1's binary_logloss: 0.150527\n",
      "[9100]\ttraining's binary_logloss: 0.0144385\tvalid_1's binary_logloss: 0.150301\n",
      "[9150]\ttraining's binary_logloss: 0.0141539\tvalid_1's binary_logloss: 0.150006\n",
      "[9200]\ttraining's binary_logloss: 0.0138726\tvalid_1's binary_logloss: 0.149679\n",
      "[9250]\ttraining's binary_logloss: 0.0135983\tvalid_1's binary_logloss: 0.149341\n",
      "[9300]\ttraining's binary_logloss: 0.0133258\tvalid_1's binary_logloss: 0.149014\n",
      "[9350]\ttraining's binary_logloss: 0.013055\tvalid_1's binary_logloss: 0.148798\n",
      "[9400]\ttraining's binary_logloss: 0.0128009\tvalid_1's binary_logloss: 0.148506\n",
      "[9450]\ttraining's binary_logloss: 0.0125546\tvalid_1's binary_logloss: 0.148293\n",
      "[9500]\ttraining's binary_logloss: 0.0123177\tvalid_1's binary_logloss: 0.148102\n",
      "[9550]\ttraining's binary_logloss: 0.0120756\tvalid_1's binary_logloss: 0.147795\n",
      "[9600]\ttraining's binary_logloss: 0.0118369\tvalid_1's binary_logloss: 0.147547\n",
      "[9650]\ttraining's binary_logloss: 0.0116146\tvalid_1's binary_logloss: 0.147306\n",
      "[9700]\ttraining's binary_logloss: 0.0113883\tvalid_1's binary_logloss: 0.14709\n",
      "[9750]\ttraining's binary_logloss: 0.0111646\tvalid_1's binary_logloss: 0.146851\n",
      "[9800]\ttraining's binary_logloss: 0.0109503\tvalid_1's binary_logloss: 0.146681\n",
      "[9850]\ttraining's binary_logloss: 0.0107425\tvalid_1's binary_logloss: 0.146581\n",
      "[9900]\ttraining's binary_logloss: 0.0105409\tvalid_1's binary_logloss: 0.146441\n",
      "[9950]\ttraining's binary_logloss: 0.0103437\tvalid_1's binary_logloss: 0.146308\n",
      "[10000]\ttraining's binary_logloss: 0.0101374\tvalid_1's binary_logloss: 0.146065\n",
      "Did not meet early stopping. Best iteration is:\n",
      "[10000]\ttraining's binary_logloss: 0.0101374\tvalid_1's binary_logloss: 0.146065\n",
      "Training until validation scores don't improve for 200 rounds.\n",
      "[50]\ttraining's binary_logloss: 0.664484\tvalid_1's binary_logloss: 0.676337\n",
      "[100]\ttraining's binary_logloss: 0.638675\tvalid_1's binary_logloss: 0.661421\n",
      "[150]\ttraining's binary_logloss: 0.614635\tvalid_1's binary_logloss: 0.647733\n",
      "[200]\ttraining's binary_logloss: 0.592967\tvalid_1's binary_logloss: 0.63585\n",
      "[250]\ttraining's binary_logloss: 0.573447\tvalid_1's binary_logloss: 0.625326\n",
      "[300]\ttraining's binary_logloss: 0.555825\tvalid_1's binary_logloss: 0.616119\n",
      "[350]\ttraining's binary_logloss: 0.539082\tvalid_1's binary_logloss: 0.607455\n",
      "[400]\ttraining's binary_logloss: 0.52318\tvalid_1's binary_logloss: 0.599009\n",
      "[450]\ttraining's binary_logloss: 0.508928\tvalid_1's binary_logloss: 0.591888\n",
      "[500]\ttraining's binary_logloss: 0.495279\tvalid_1's binary_logloss: 0.584667\n",
      "[550]\ttraining's binary_logloss: 0.482336\tvalid_1's binary_logloss: 0.578023\n",
      "[600]\ttraining's binary_logloss: 0.471115\tvalid_1's binary_logloss: 0.573103\n",
      "[650]\ttraining's binary_logloss: 0.459229\tvalid_1's binary_logloss: 0.566689\n",
      "[700]\ttraining's binary_logloss: 0.448176\tvalid_1's binary_logloss: 0.561001\n",
      "[750]\ttraining's binary_logloss: 0.437779\tvalid_1's binary_logloss: 0.555725\n"
     ]
    },
    {
     "name": "stdout",
     "output_type": "stream",
     "text": [
      "[800]\ttraining's binary_logloss: 0.427874\tvalid_1's binary_logloss: 0.550459\n",
      "[850]\ttraining's binary_logloss: 0.418189\tvalid_1's binary_logloss: 0.545099\n",
      "[900]\ttraining's binary_logloss: 0.408927\tvalid_1's binary_logloss: 0.539853\n",
      "[950]\ttraining's binary_logloss: 0.399918\tvalid_1's binary_logloss: 0.534587\n",
      "[1000]\ttraining's binary_logloss: 0.391629\tvalid_1's binary_logloss: 0.529992\n",
      "[1050]\ttraining's binary_logloss: 0.383554\tvalid_1's binary_logloss: 0.525319\n",
      "[1100]\ttraining's binary_logloss: 0.375261\tvalid_1's binary_logloss: 0.519975\n",
      "[1150]\ttraining's binary_logloss: 0.367453\tvalid_1's binary_logloss: 0.515055\n",
      "[1200]\ttraining's binary_logloss: 0.359528\tvalid_1's binary_logloss: 0.509619\n",
      "[1250]\ttraining's binary_logloss: 0.352059\tvalid_1's binary_logloss: 0.504584\n",
      "[1300]\ttraining's binary_logloss: 0.344527\tvalid_1's binary_logloss: 0.499218\n",
      "[1350]\ttraining's binary_logloss: 0.336848\tvalid_1's binary_logloss: 0.493278\n",
      "[1400]\ttraining's binary_logloss: 0.329667\tvalid_1's binary_logloss: 0.487767\n",
      "[1450]\ttraining's binary_logloss: 0.322069\tvalid_1's binary_logloss: 0.481617\n",
      "[1500]\ttraining's binary_logloss: 0.315053\tvalid_1's binary_logloss: 0.475916\n",
      "[1550]\ttraining's binary_logloss: 0.308257\tvalid_1's binary_logloss: 0.470214\n",
      "[1600]\ttraining's binary_logloss: 0.301266\tvalid_1's binary_logloss: 0.464339\n",
      "[1650]\ttraining's binary_logloss: 0.294653\tvalid_1's binary_logloss: 0.458753\n",
      "[1700]\ttraining's binary_logloss: 0.288229\tvalid_1's binary_logloss: 0.453256\n",
      "[1750]\ttraining's binary_logloss: 0.282124\tvalid_1's binary_logloss: 0.448233\n",
      "[1800]\ttraining's binary_logloss: 0.276117\tvalid_1's binary_logloss: 0.443093\n",
      "[1850]\ttraining's binary_logloss: 0.270146\tvalid_1's binary_logloss: 0.438132\n",
      "[1900]\ttraining's binary_logloss: 0.264165\tvalid_1's binary_logloss: 0.432801\n",
      "[1950]\ttraining's binary_logloss: 0.258479\tvalid_1's binary_logloss: 0.427812\n",
      "[2000]\ttraining's binary_logloss: 0.253044\tvalid_1's binary_logloss: 0.423054\n",
      "[2050]\ttraining's binary_logloss: 0.247677\tvalid_1's binary_logloss: 0.418121\n",
      "[2100]\ttraining's binary_logloss: 0.242694\tvalid_1's binary_logloss: 0.413778\n",
      "[2150]\ttraining's binary_logloss: 0.237686\tvalid_1's binary_logloss: 0.409268\n",
      "[2200]\ttraining's binary_logloss: 0.232537\tvalid_1's binary_logloss: 0.404428\n",
      "[2250]\ttraining's binary_logloss: 0.227704\tvalid_1's binary_logloss: 0.399856\n",
      "[2300]\ttraining's binary_logloss: 0.223\tvalid_1's binary_logloss: 0.395513\n",
      "[2350]\ttraining's binary_logloss: 0.218289\tvalid_1's binary_logloss: 0.391048\n",
      "[2400]\ttraining's binary_logloss: 0.214064\tvalid_1's binary_logloss: 0.387197\n",
      "[2450]\ttraining's binary_logloss: 0.210057\tvalid_1's binary_logloss: 0.383566\n",
      "[2500]\ttraining's binary_logloss: 0.206108\tvalid_1's binary_logloss: 0.379861\n",
      "[2550]\ttraining's binary_logloss: 0.201929\tvalid_1's binary_logloss: 0.375716\n",
      "[2600]\ttraining's binary_logloss: 0.197813\tvalid_1's binary_logloss: 0.371646\n",
      "[2650]\ttraining's binary_logloss: 0.193838\tvalid_1's binary_logloss: 0.367925\n",
      "[2700]\ttraining's binary_logloss: 0.189729\tvalid_1's binary_logloss: 0.364019\n",
      "[2750]\ttraining's binary_logloss: 0.185979\tvalid_1's binary_logloss: 0.360574\n",
      "[2800]\ttraining's binary_logloss: 0.182592\tvalid_1's binary_logloss: 0.357358\n",
      "[2850]\ttraining's binary_logloss: 0.17932\tvalid_1's binary_logloss: 0.354195\n",
      "[2900]\ttraining's binary_logloss: 0.175931\tvalid_1's binary_logloss: 0.351005\n",
      "[2950]\ttraining's binary_logloss: 0.172687\tvalid_1's binary_logloss: 0.347764\n",
      "[3000]\ttraining's binary_logloss: 0.16977\tvalid_1's binary_logloss: 0.345044\n",
      "[3050]\ttraining's binary_logloss: 0.166744\tvalid_1's binary_logloss: 0.342277\n",
      "[3100]\ttraining's binary_logloss: 0.163701\tvalid_1's binary_logloss: 0.339345\n",
      "[3150]\ttraining's binary_logloss: 0.16064\tvalid_1's binary_logloss: 0.336284\n",
      "[3200]\ttraining's binary_logloss: 0.157911\tvalid_1's binary_logloss: 0.333818\n",
      "[3250]\ttraining's binary_logloss: 0.155217\tvalid_1's binary_logloss: 0.33123\n",
      "[3300]\ttraining's binary_logloss: 0.152348\tvalid_1's binary_logloss: 0.328362\n",
      "[3350]\ttraining's binary_logloss: 0.149713\tvalid_1's binary_logloss: 0.325803\n",
      "[3400]\ttraining's binary_logloss: 0.147214\tvalid_1's binary_logloss: 0.323314\n",
      "[3450]\ttraining's binary_logloss: 0.14455\tvalid_1's binary_logloss: 0.320536\n",
      "[3500]\ttraining's binary_logloss: 0.141938\tvalid_1's binary_logloss: 0.31787\n",
      "[3550]\ttraining's binary_logloss: 0.139374\tvalid_1's binary_logloss: 0.315419\n",
      "[3600]\ttraining's binary_logloss: 0.136933\tvalid_1's binary_logloss: 0.312874\n",
      "[3650]\ttraining's binary_logloss: 0.13447\tvalid_1's binary_logloss: 0.310422\n",
      "[3700]\ttraining's binary_logloss: 0.132046\tvalid_1's binary_logloss: 0.308082\n",
      "[3750]\ttraining's binary_logloss: 0.129667\tvalid_1's binary_logloss: 0.305629\n",
      "[3800]\ttraining's binary_logloss: 0.127439\tvalid_1's binary_logloss: 0.303355\n",
      "[3850]\ttraining's binary_logloss: 0.125145\tvalid_1's binary_logloss: 0.300894\n",
      "[3900]\ttraining's binary_logloss: 0.122965\tvalid_1's binary_logloss: 0.298709\n",
      "[3950]\ttraining's binary_logloss: 0.120857\tvalid_1's binary_logloss: 0.296557\n",
      "[4000]\ttraining's binary_logloss: 0.118787\tvalid_1's binary_logloss: 0.294669\n",
      "[4050]\ttraining's binary_logloss: 0.116611\tvalid_1's binary_logloss: 0.292524\n",
      "[4100]\ttraining's binary_logloss: 0.114473\tvalid_1's binary_logloss: 0.290427\n",
      "[4150]\ttraining's binary_logloss: 0.112334\tvalid_1's binary_logloss: 0.288252\n",
      "[4200]\ttraining's binary_logloss: 0.110408\tvalid_1's binary_logloss: 0.286376\n",
      "[4250]\ttraining's binary_logloss: 0.108397\tvalid_1's binary_logloss: 0.284287\n",
      "[4300]\ttraining's binary_logloss: 0.106378\tvalid_1's binary_logloss: 0.282266\n",
      "[4350]\ttraining's binary_logloss: 0.104429\tvalid_1's binary_logloss: 0.280354\n",
      "[4400]\ttraining's binary_logloss: 0.102519\tvalid_1's binary_logloss: 0.278161\n",
      "[4450]\ttraining's binary_logloss: 0.100559\tvalid_1's binary_logloss: 0.276024\n",
      "[4500]\ttraining's binary_logloss: 0.0988034\tvalid_1's binary_logloss: 0.27423\n",
      "[4550]\ttraining's binary_logloss: 0.0970103\tvalid_1's binary_logloss: 0.272276\n",
      "[4600]\ttraining's binary_logloss: 0.0952972\tvalid_1's binary_logloss: 0.270524\n",
      "[4650]\ttraining's binary_logloss: 0.0935151\tvalid_1's binary_logloss: 0.268701\n",
      "[4700]\ttraining's binary_logloss: 0.0917015\tvalid_1's binary_logloss: 0.266882\n",
      "[4750]\ttraining's binary_logloss: 0.0900203\tvalid_1's binary_logloss: 0.265156\n",
      "[4800]\ttraining's binary_logloss: 0.0883691\tvalid_1's binary_logloss: 0.263435\n",
      "[4850]\ttraining's binary_logloss: 0.0867978\tvalid_1's binary_logloss: 0.261886\n",
      "[4900]\ttraining's binary_logloss: 0.0851556\tvalid_1's binary_logloss: 0.260134\n",
      "[4950]\ttraining's binary_logloss: 0.0835793\tvalid_1's binary_logloss: 0.258468\n",
      "[5000]\ttraining's binary_logloss: 0.0820527\tvalid_1's binary_logloss: 0.256981\n",
      "[5050]\ttraining's binary_logloss: 0.0805139\tvalid_1's binary_logloss: 0.255304\n",
      "[5100]\ttraining's binary_logloss: 0.0789301\tvalid_1's binary_logloss: 0.253698\n",
      "[5150]\ttraining's binary_logloss: 0.0774629\tvalid_1's binary_logloss: 0.252178\n",
      "[5200]\ttraining's binary_logloss: 0.0759073\tvalid_1's binary_logloss: 0.250532\n",
      "[5250]\ttraining's binary_logloss: 0.0745309\tvalid_1's binary_logloss: 0.249034\n",
      "[5300]\ttraining's binary_logloss: 0.0731101\tvalid_1's binary_logloss: 0.247588\n",
      "[5350]\ttraining's binary_logloss: 0.0717209\tvalid_1's binary_logloss: 0.246156\n",
      "[5400]\ttraining's binary_logloss: 0.070324\tvalid_1's binary_logloss: 0.24469\n",
      "[5450]\ttraining's binary_logloss: 0.069019\tvalid_1's binary_logloss: 0.243328\n",
      "[5500]\ttraining's binary_logloss: 0.067746\tvalid_1's binary_logloss: 0.242018\n",
      "[5550]\ttraining's binary_logloss: 0.0665205\tvalid_1's binary_logloss: 0.240799\n",
      "[5600]\ttraining's binary_logloss: 0.0652443\tvalid_1's binary_logloss: 0.239552\n",
      "[5650]\ttraining's binary_logloss: 0.0639804\tvalid_1's binary_logloss: 0.238221\n",
      "[5700]\ttraining's binary_logloss: 0.0627709\tvalid_1's binary_logloss: 0.237057\n",
      "[5750]\ttraining's binary_logloss: 0.0616423\tvalid_1's binary_logloss: 0.235927\n",
      "[5800]\ttraining's binary_logloss: 0.0604799\tvalid_1's binary_logloss: 0.234649\n",
      "[5850]\ttraining's binary_logloss: 0.0593911\tvalid_1's binary_logloss: 0.233403\n",
      "[5900]\ttraining's binary_logloss: 0.0582446\tvalid_1's binary_logloss: 0.23208\n",
      "[5950]\ttraining's binary_logloss: 0.0571839\tvalid_1's binary_logloss: 0.231087\n",
      "[6000]\ttraining's binary_logloss: 0.0561523\tvalid_1's binary_logloss: 0.230014\n"
     ]
    },
    {
     "name": "stdout",
     "output_type": "stream",
     "text": [
      "[6050]\ttraining's binary_logloss: 0.0551101\tvalid_1's binary_logloss: 0.228909\n",
      "[6100]\ttraining's binary_logloss: 0.0541387\tvalid_1's binary_logloss: 0.227997\n",
      "[6150]\ttraining's binary_logloss: 0.0530761\tvalid_1's binary_logloss: 0.22687\n",
      "[6200]\ttraining's binary_logloss: 0.052086\tvalid_1's binary_logloss: 0.225842\n",
      "[6250]\ttraining's binary_logloss: 0.0511008\tvalid_1's binary_logloss: 0.224776\n",
      "[6300]\ttraining's binary_logloss: 0.0500696\tvalid_1's binary_logloss: 0.223706\n",
      "[6350]\ttraining's binary_logloss: 0.0490819\tvalid_1's binary_logloss: 0.222628\n",
      "[6400]\ttraining's binary_logloss: 0.0481423\tvalid_1's binary_logloss: 0.221727\n",
      "[6450]\ttraining's binary_logloss: 0.0472316\tvalid_1's binary_logloss: 0.220917\n",
      "[6500]\ttraining's binary_logloss: 0.0463074\tvalid_1's binary_logloss: 0.22\n",
      "[6550]\ttraining's binary_logloss: 0.0455145\tvalid_1's binary_logloss: 0.219206\n",
      "[6600]\ttraining's binary_logloss: 0.0446277\tvalid_1's binary_logloss: 0.218348\n",
      "[6650]\ttraining's binary_logloss: 0.0438266\tvalid_1's binary_logloss: 0.217623\n",
      "[6700]\ttraining's binary_logloss: 0.0429889\tvalid_1's binary_logloss: 0.216786\n",
      "[6750]\ttraining's binary_logloss: 0.0421668\tvalid_1's binary_logloss: 0.215948\n",
      "[6800]\ttraining's binary_logloss: 0.0413945\tvalid_1's binary_logloss: 0.215199\n",
      "[6850]\ttraining's binary_logloss: 0.0405822\tvalid_1's binary_logloss: 0.214414\n",
      "[6900]\ttraining's binary_logloss: 0.0398116\tvalid_1's binary_logloss: 0.213629\n",
      "[6950]\ttraining's binary_logloss: 0.0391192\tvalid_1's binary_logloss: 0.212955\n",
      "[7000]\ttraining's binary_logloss: 0.0384479\tvalid_1's binary_logloss: 0.212255\n",
      "[7050]\ttraining's binary_logloss: 0.0376995\tvalid_1's binary_logloss: 0.211362\n",
      "[7100]\ttraining's binary_logloss: 0.0370084\tvalid_1's binary_logloss: 0.210816\n",
      "[7150]\ttraining's binary_logloss: 0.0363241\tvalid_1's binary_logloss: 0.210107\n",
      "[7200]\ttraining's binary_logloss: 0.0355684\tvalid_1's binary_logloss: 0.209435\n",
      "[7250]\ttraining's binary_logloss: 0.0348793\tvalid_1's binary_logloss: 0.208711\n",
      "[7300]\ttraining's binary_logloss: 0.0342474\tvalid_1's binary_logloss: 0.208101\n",
      "[7350]\ttraining's binary_logloss: 0.0336112\tvalid_1's binary_logloss: 0.207464\n",
      "[7400]\ttraining's binary_logloss: 0.0329438\tvalid_1's binary_logloss: 0.206747\n",
      "[7450]\ttraining's binary_logloss: 0.0323038\tvalid_1's binary_logloss: 0.206083\n",
      "[7500]\ttraining's binary_logloss: 0.0317196\tvalid_1's binary_logloss: 0.205588\n",
      "[7550]\ttraining's binary_logloss: 0.0311218\tvalid_1's binary_logloss: 0.204967\n",
      "[7600]\ttraining's binary_logloss: 0.0305256\tvalid_1's binary_logloss: 0.204383\n",
      "[7650]\ttraining's binary_logloss: 0.0299707\tvalid_1's binary_logloss: 0.203857\n",
      "[7700]\ttraining's binary_logloss: 0.0294084\tvalid_1's binary_logloss: 0.203367\n",
      "[7750]\ttraining's binary_logloss: 0.0288652\tvalid_1's binary_logloss: 0.202925\n",
      "[7800]\ttraining's binary_logloss: 0.0283358\tvalid_1's binary_logloss: 0.202396\n",
      "[7850]\ttraining's binary_logloss: 0.0278119\tvalid_1's binary_logloss: 0.201891\n",
      "[7900]\ttraining's binary_logloss: 0.0272565\tvalid_1's binary_logloss: 0.201307\n",
      "[7950]\ttraining's binary_logloss: 0.0267444\tvalid_1's binary_logloss: 0.200808\n",
      "[8000]\ttraining's binary_logloss: 0.0262096\tvalid_1's binary_logloss: 0.200248\n",
      "[8050]\ttraining's binary_logloss: 0.025696\tvalid_1's binary_logloss: 0.199815\n",
      "[8100]\ttraining's binary_logloss: 0.0252066\tvalid_1's binary_logloss: 0.199364\n",
      "[8150]\ttraining's binary_logloss: 0.0247239\tvalid_1's binary_logloss: 0.198888\n",
      "[8200]\ttraining's binary_logloss: 0.02426\tvalid_1's binary_logloss: 0.198444\n",
      "[8250]\ttraining's binary_logloss: 0.0237986\tvalid_1's binary_logloss: 0.198062\n",
      "[8300]\ttraining's binary_logloss: 0.0233467\tvalid_1's binary_logloss: 0.197652\n",
      "[8350]\ttraining's binary_logloss: 0.0228997\tvalid_1's binary_logloss: 0.197252\n",
      "[8400]\ttraining's binary_logloss: 0.0224554\tvalid_1's binary_logloss: 0.19693\n",
      "[8450]\ttraining's binary_logloss: 0.0220361\tvalid_1's binary_logloss: 0.196582\n",
      "[8500]\ttraining's binary_logloss: 0.0216201\tvalid_1's binary_logloss: 0.196245\n",
      "[8550]\ttraining's binary_logloss: 0.0211992\tvalid_1's binary_logloss: 0.195893\n",
      "[8600]\ttraining's binary_logloss: 0.0207702\tvalid_1's binary_logloss: 0.195527\n",
      "[8650]\ttraining's binary_logloss: 0.0203811\tvalid_1's binary_logloss: 0.195116\n",
      "[8700]\ttraining's binary_logloss: 0.0199962\tvalid_1's binary_logloss: 0.194877\n",
      "[8750]\ttraining's binary_logloss: 0.0196209\tvalid_1's binary_logloss: 0.194573\n",
      "[8800]\ttraining's binary_logloss: 0.0192365\tvalid_1's binary_logloss: 0.194231\n",
      "[8850]\ttraining's binary_logloss: 0.0188658\tvalid_1's binary_logloss: 0.194037\n",
      "[8900]\ttraining's binary_logloss: 0.0185194\tvalid_1's binary_logloss: 0.193741\n",
      "[8950]\ttraining's binary_logloss: 0.018149\tvalid_1's binary_logloss: 0.193491\n",
      "[9000]\ttraining's binary_logloss: 0.0178018\tvalid_1's binary_logloss: 0.193186\n",
      "[9050]\ttraining's binary_logloss: 0.0174416\tvalid_1's binary_logloss: 0.192926\n",
      "[9100]\ttraining's binary_logloss: 0.0171059\tvalid_1's binary_logloss: 0.192655\n",
      "[9150]\ttraining's binary_logloss: 0.0167824\tvalid_1's binary_logloss: 0.192398\n",
      "[9200]\ttraining's binary_logloss: 0.0164539\tvalid_1's binary_logloss: 0.192066\n",
      "[9250]\ttraining's binary_logloss: 0.0161526\tvalid_1's binary_logloss: 0.19185\n",
      "[9300]\ttraining's binary_logloss: 0.0158537\tvalid_1's binary_logloss: 0.191624\n",
      "[9350]\ttraining's binary_logloss: 0.0155282\tvalid_1's binary_logloss: 0.191435\n",
      "[9400]\ttraining's binary_logloss: 0.01522\tvalid_1's binary_logloss: 0.19112\n",
      "[9450]\ttraining's binary_logloss: 0.0149363\tvalid_1's binary_logloss: 0.190897\n",
      "[9500]\ttraining's binary_logloss: 0.0146504\tvalid_1's binary_logloss: 0.190603\n",
      "[9550]\ttraining's binary_logloss: 0.0143559\tvalid_1's binary_logloss: 0.190376\n",
      "[9600]\ttraining's binary_logloss: 0.0140673\tvalid_1's binary_logloss: 0.190155\n",
      "[9650]\ttraining's binary_logloss: 0.0138053\tvalid_1's binary_logloss: 0.189915\n",
      "[9700]\ttraining's binary_logloss: 0.0135599\tvalid_1's binary_logloss: 0.189794\n",
      "[9750]\ttraining's binary_logloss: 0.0132832\tvalid_1's binary_logloss: 0.189632\n",
      "[9800]\ttraining's binary_logloss: 0.0130176\tvalid_1's binary_logloss: 0.189389\n",
      "[9850]\ttraining's binary_logloss: 0.0127687\tvalid_1's binary_logloss: 0.189174\n",
      "[9900]\ttraining's binary_logloss: 0.0125181\tvalid_1's binary_logloss: 0.188919\n",
      "[9950]\ttraining's binary_logloss: 0.0122878\tvalid_1's binary_logloss: 0.188777\n",
      "[10000]\ttraining's binary_logloss: 0.0120551\tvalid_1's binary_logloss: 0.188669\n",
      "Did not meet early stopping. Best iteration is:\n",
      "[10000]\ttraining's binary_logloss: 0.0120551\tvalid_1's binary_logloss: 0.188669\n",
      "[0.6434782608695653, 0.5789473684210527, 0.6086956521739131]\n",
      "---------------------\n",
      "f_scores: [0.610373760488177]\n"
     ]
    }
   ],
   "source": [
    "test_size = 0.0\n",
    "n_splits = 1\n",
    "n_folds = 3\n",
    "max_rounds = 10000\n",
    "params = {\n",
    "    'num_leaves': 2 ** 5 - 1,\n",
    "    'objective': 'binary',\n",
    "    'max_depth': 6,\n",
    "    'min_data_in_leaf': 50,\n",
    "    'learning_rate': 1e-3,\n",
    "    'feature_fraction': 0.75,\n",
    "    'bagging_fraction': 0.75,\n",
    "    'bagging_freq': 1,\n",
    "    'metric': 'binary',\n",
    "    'num_threads': 4,\n",
    "#         'is_unbalanced': True\n",
    "    'scale_pos_weight': 4\n",
    "}\n",
    "\n",
    "X_train, X_test, y_train, y_test = train_test_split(X, y, test_size=test_size)\n",
    "if n_splits == 1:\n",
    "    inds = [np.arange(len(X_train))]\n",
    "else:\n",
    "    X_train, y_train = pd.DataFrame(X_train), pd.Series(y_train)\n",
    "    X_false, X_true = X_train[y_train == 0], X_train[y_train == 1]\n",
    "    y_false, y_true = y_train[y_train == 0], y_train[y_train == 1]\n",
    "    \n",
    "    inds = np.arange(len(X_false))\n",
    "    np.random.shuffle(inds)\n",
    "    inds = np.array_split(inds, n_splits)\n",
    "    inds = [np.hstack([\n",
    "        X_false.iloc[i_ind].index.values, \n",
    "        X_true.index.values\n",
    "    ]) for i_ind in inds]\n",
    "    \n",
    "    X_train, y_train = X_train.as_matrix(), y_train.as_matrix()\n",
    "    \n",
    "X_vals = []\n",
    "y_vals = []\n",
    "models = []\n",
    "    \n",
    "predicted = []\n",
    "f_scores = []\n",
    "for i, train_index in enumerate(inds):\n",
    "    X_train1, y_train1 = X_train[train_index], y_train[train_index]\n",
    "    \n",
    "    i_f_scores = []\n",
    "    for X_train2, X_val, y_train2, y_val in make_train_val(X_train1, y_train1, n_folds):\n",
    "        X_train2, y_train2 = good_upsampling(X_train2, y_train2)\n",
    "        \n",
    "        dtrain = lgb.Dataset(\n",
    "            X_train2, label=y_train2,\n",
    "            categorical_feature=[]\n",
    "        )\n",
    "\n",
    "        dval = lgb.Dataset(\n",
    "            X_val, label=y_val, reference=dtrain,\n",
    "            categorical_feature=[]\n",
    "        )\n",
    "\n",
    "        bst = lgb.train(\n",
    "            params, dtrain, num_boost_round=max_rounds,\n",
    "            valid_sets=[dtrain, dval], early_stopping_rounds=200, verbose_eval=50\n",
    "        )\n",
    "        \n",
    "        \n",
    "        X_vals.append(X_val)\n",
    "        y_vals.append(y_val)\n",
    "        models.append(bst)\n",
    "        \n",
    "        y_pred = (bst.predict(X_val, num_iteration=bst.best_iteration or max_rounds)> 0.5).astype(int)\n",
    "        i_f_scores.append(f1_score (y_val, y_pred))\n",
    "        predicted.append(bst.predict(X_test, num_iteration=bst.best_iteration or max_rounds))\n",
    "    \n",
    "    print(i_f_scores)\n",
    "    f_scores.append(np.mean(i_f_scores))\n",
    "\n",
    "# Metrics\n",
    "model = bst\n",
    "print('---------------------')\n",
    "print(f'f_scores: {f_scores}')\n",
    "if test_size > 0:\n",
    "    y_pred = (np.mean(predicted, axis=0) > 0.5).astype(int)\n",
    "    print(f'test f1 score: {fbeta_score(y_test, y_pred)}')"
   ]
  },
  {
   "cell_type": "code",
   "execution_count": 93,
   "metadata": {},
   "outputs": [
    {
     "data": {
      "text/plain": [
       "0.7029649021936364"
      ]
     },
     "execution_count": 93,
     "metadata": {},
     "output_type": "execute_result"
    }
   ],
   "source": [
    "np.mean([fbeta_score(y_val, (model.predict(X_val) >= 0.2).astype(int), 2) for X_val, y_val, model in zip(X_vals, y_vals, models)])"
   ]
  },
  {
   "cell_type": "code",
   "execution_count": 94,
   "metadata": {},
   "outputs": [
    {
     "data": {
      "text/plain": [
       "0.782742816851754"
      ]
     },
     "execution_count": 94,
     "metadata": {},
     "output_type": "execute_result"
    }
   ],
   "source": [
    "np.mean([(model.predict(X_val) >= 0.2).astype(int)[y_val == 1].mean() for X_val, y_val, model in zip(X_vals, y_vals, models)])"
   ]
  },
  {
   "cell_type": "code",
   "execution_count": 95,
   "metadata": {},
   "outputs": [
    {
     "data": {
      "text/plain": [
       "0.07200078639358999"
      ]
     },
     "execution_count": 95,
     "metadata": {},
     "output_type": "execute_result"
    }
   ],
   "source": [
    "np.mean([(model.predict(X_val) >= 0.2).astype(int)[y_val == 0].mean() for X_val, y_val, model in zip(X_vals, y_vals, models)])"
   ]
  },
  {
   "cell_type": "code",
   "execution_count": null,
   "metadata": {},
   "outputs": [],
   "source": [
    "test_size = 0.0\n",
    "n_splits = 1\n",
    "n_folds = 1\n",
    "max_rounds = 10000\n",
    "params = {\n",
    "    'num_leaves': 2 ** 5 - 1,\n",
    "    'objective': 'binary',\n",
    "    'max_depth': 6,\n",
    "    'min_data_in_leaf': 50,\n",
    "    'learning_rate': 1e-3,\n",
    "    'feature_fraction': 0.75,\n",
    "    'bagging_fraction': 0.75,\n",
    "    'bagging_freq': 1,\n",
    "    'metric': 'binary',\n",
    "    'num_threads': 4,\n",
    "#         'is_unbalanced': True\n",
    "    'scale_pos_weight': 4\n",
    "}\n",
    "\n",
    "X_train, X_test, y_train, y_test = train_test_split(X, y, test_size=test_size)\n",
    "if n_splits == 1:\n",
    "    inds = [np.arange(len(X_train))]\n",
    "else:\n",
    "    X_train, y_train = pd.DataFrame(X_train), pd.Series(y_train)\n",
    "    X_false, X_true = X_train[y_train == 0], X_train[y_train == 1]\n",
    "    y_false, y_true = y_train[y_train == 0], y_train[y_train == 1]\n",
    "    \n",
    "    inds = np.arange(len(X_false))\n",
    "    np.random.shuffle(inds)\n",
    "    inds = np.array_split(inds, n_splits)\n",
    "    inds = [np.hstack([\n",
    "        X_false.iloc[i_ind].index.values, \n",
    "        X_true.index.values\n",
    "    ]) for i_ind in inds]\n",
    "    \n",
    "    X_train, y_train = X_train.as_matrix(), y_train.as_matrix()\n",
    "\n",
    "predicted = []\n",
    "f_scores = []\n",
    "\n",
    "for i, train_index in enumerate(inds):\n",
    "    X_train1, y_train1 = X_train[train_index], y_train[train_index]\n",
    "    \n",
    "    i_f_scores = []\n",
    "    for X_train2, X_val, y_train2, y_val in make_train_val(X_train1, y_train1, n_folds):\n",
    "        X_train2, y_train2 = good_upsampling(X_train2, y_train2)\n",
    "\n",
    "        dtrain = lgb.Dataset(\n",
    "            X_train2, label=y_train2,\n",
    "            categorical_feature=[]\n",
    "        )\n",
    "\n",
    "        dval = lgb.Dataset(\n",
    "            X_val, label=y_val, reference=dtrain,\n",
    "            categorical_feature=[]\n",
    "        )\n",
    "\n",
    "        bst = lgb.train(\n",
    "            params, dtrain, num_boost_round=max_rounds,\n",
    "            valid_sets=[dtrain, dval], early_stopping_rounds=200, verbose_eval=50\n",
    "        )\n",
    "        \n",
    "        y_pred = (bst.predict(X_val, num_iteration=bst.best_iteration or max_rounds)> 0.5).astype(int)\n",
    "        i_f_scores.append(f1_score(y_val, y_pred))\n",
    "        predicted.append(bst.predict(X_test, num_iteration=bst.best_iteration or max_rounds))\n",
    "    \n",
    "    print(i_f_scores)\n",
    "    f_scores.append(np.mean(i_f_scores))\n",
    "\n",
    "# Metrics\n",
    "model = bst\n",
    "print('---------------------')\n",
    "print(f'f_scores: {f_scores}')\n",
    "if test_size > 0:\n",
    "    y_pred = (np.mean(predicted, axis=0) > 0.5).astype(int)\n",
    "    print(f'test f1 score: {fbeta_score(y_test, y_pred)}')"
   ]
  },
  {
   "cell_type": "code",
   "execution_count": 134,
   "metadata": {},
   "outputs": [],
   "source": [
    "model = models[0]\n",
    "X_train2, X_val, y_train2, y_val = list(make_train_val(X_train1, y_train1, n_folds))[0]\n",
    "y_pred = (bst.predict(X_val, num_iteration=bst.best_iteration or max_rounds)> 0.2).astype(int)\n",
    "auc1 = roc_auc_score(y_val, y_pred)"
   ]
  },
  {
   "cell_type": "code",
   "execution_count": 135,
   "metadata": {},
   "outputs": [],
   "source": [
    "model = models[1]\n",
    "X_train2, X_val, y_train2, y_val = list(make_train_val(X_train1, y_train1, n_folds))[1]\n",
    "y_pred = (bst.predict(X_val, num_iteration=bst.best_iteration or max_rounds)> 0.2).astype(int)\n",
    "auc2 = roc_auc_score(y_val, y_pred)"
   ]
  },
  {
   "cell_type": "code",
   "execution_count": 136,
   "metadata": {},
   "outputs": [],
   "source": [
    "model = models[2]\n",
    "X_train2, X_val, y_train2, y_val = list(make_train_val(X_train1, y_train1, n_folds))[2]\n",
    "y_pred = (bst.predict(X_val, num_iteration=bst.best_iteration or max_rounds)> 0.2).astype(int)\n",
    "auc3 = roc_auc_score(y_val, y_pred)"
   ]
  },
  {
   "cell_type": "code",
   "execution_count": 137,
   "metadata": {},
   "outputs": [],
   "source": [
    "auc = np.array([auc1, auc2, auc3])"
   ]
  },
  {
   "cell_type": "code",
   "execution_count": 139,
   "metadata": {},
   "outputs": [
    {
     "data": {
      "text/plain": [
       "0.9440055054932043"
      ]
     },
     "execution_count": 139,
     "metadata": {},
     "output_type": "execute_result"
    }
   ],
   "source": [
    "auc.mean()"
   ]
  },
  {
   "cell_type": "markdown",
   "metadata": {},
   "source": [
    "# Predict"
   ]
  },
  {
   "cell_type": "code",
   "execution_count": 19,
   "metadata": {},
   "outputs": [],
   "source": [
    "def draw_importance(columns, importances, top_k=20, save_path=None):\n",
    "    order = np.argsort(importances)[-top_k:]\n",
    "\n",
    "    objects = pd.Series(columns)[order]\n",
    "    y_pos = np.arange(len(objects))\n",
    "    performance = importances[order]\n",
    "\n",
    "    plt.figure(figsize=(20, 10))\n",
    "    plt.barh(y_pos, performance, align='center', alpha=0.5)\n",
    "    plt.yticks(y_pos, objects)\n",
    "    plt.xlabel('Importance')\n",
    "    plt.title('Feature')\n",
    "\n",
    "    if save_path:\n",
    "        plt.savefig(save_path)\n",
    "\n",
    "    plt.show()"
   ]
  },
  {
   "cell_type": "code",
   "execution_count": 20,
   "metadata": {},
   "outputs": [
    {
     "data": {
      "image/png": "[encoded data removed]",
      "text/plain": [
       "<Figure size 1440x720 with 1 Axes>"
      ]
     },
     "metadata": {},
     "output_type": "display_data"
    }
   ],
   "source": [
    "draw_importance(NAMES, model.feature_importance(), top_k=20)"
   ]
  },
  {
   "cell_type": "code",
   "execution_count": 21,
   "metadata": {
    "scrolled": true
   },
   "outputs": [],
   "source": [
    "def get_topk_features(x, x_mean, k=5):\n",
    "    p = model.predict(np.array([x]))[0]\n",
    "    imp = []\n",
    "    for feature_id in np.argsort(model.feature_importance())[-100:]:\n",
    "        xc = x.copy()\n",
    "        xc[feature_id] = x_mean[feature_id]\n",
    "        p1 = model.predict(np.array([xc]))[0]\n",
    "        imp.append((p - p1, NAMES[feature_id], feature_id))\n",
    "    \n",
    "    return p, sorted(imp, reverse=True)[:5]\n",
    "\n",
    "\n",
    "# get_topk_features(make_features(df)[1])"
   ]
  },
  {
   "cell_type": "code",
   "execution_count": 22,
   "metadata": {},
   "outputs": [],
   "source": [
    "def get_by_date(date, csv_path):\n",
    "    \"\"\"\n",
    "    :param date: timedate in hours\n",
    "    \"\"\"\n",
    "    \n",
    "    date_range = (df.date >= date) & (df.date < (date + timedelta(minutes=240)))\n",
    "    dates = list(df[date_range].date)\n",
    "    xvalues = []\n",
    "    rvalues = []\n",
    "    k = 5\n",
    "    \n",
    "    xs = []\n",
    "    for dt in tqdm.tqdm(dates):\n",
    "        x = make_features(df[make_range(df, dt - timedelta(minutes=M_PRED_BEFORE_SPAN))])[1]\n",
    "        xs.append(x)\n",
    "    x_mean = np.mean(xs, axis=0)\n",
    "    \n",
    "    ps = []\n",
    "    ass = []\n",
    "    for dt, x in zip(tqdm.tqdm(dates), xs):\n",
    "        fs = []\n",
    "        p, features = get_topk_features(x, x_mean, k=k)\n",
    "        ps.append(p)\n",
    "        for a, _, f_i in features:\n",
    "            fs.append(f_i)\n",
    "        \n",
    "        xvalues.append(x)\n",
    "        rvalues.append(fs)\n",
    "        \n",
    "    ddf = pd.DataFrame(\n",
    "        dates,\n",
    "        index=list(range(len(dates))),\n",
    "        columns=['date']\n",
    "    )\n",
    "    \n",
    "    xdf = pd.DataFrame(\n",
    "        xvalues\n",
    "    )\n",
    "    xdf = pd.concat([ddf, xdf], axis=1)\n",
    "    xdf.to_csv('xxx' + csv_path, index=None)\n",
    "    \n",
    "    rdf = pd.DataFrame(\n",
    "        rvalues,\n",
    "        columns=[f'top{i}_feature' for i in range(1, k + 1)]\n",
    "    )\n",
    "    rdf = pd.concat([ddf, rdf], axis=1)\n",
    "    rdf.to_csv(csv_path, index=None)\n",
    "    \n",
    "    pdf = pd.DataFrame(\n",
    "        ps,\n",
    "        columns=['prob']\n",
    "    )\n",
    "    \n",
    "    pdf.to_csv('ppp' + csv_path, index=None)\n",
    "    \n",
    "    return ps"
   ]
  },
  {
   "cell_type": "code",
   "execution_count": 23,
   "metadata": {},
   "outputs": [
    {
     "data": {
      "text/html": [
       "<div>\n",
       "<style scoped>\n",
       "    .dataframe tbody tr th:only-of-type {\n",
       "        vertical-align: middle;\n",
       "    }\n",
       "\n",
       "    .dataframe tbody tr th {\n",
       "        vertical-align: top;\n",
       "    }\n",
       "\n",
       "    .dataframe thead th {\n",
       "        text-align: right;\n",
       "    }\n",
       "</style>\n",
       "<table border=\"1\" class=\"dataframe\">\n",
       "  <thead>\n",
       "    <tr style=\"text-align: right;\">\n",
       "      <th></th>\n",
       "      <th>date</th>\n",
       "      <th>type</th>\n",
       "    </tr>\n",
       "  </thead>\n",
       "  <tbody>\n",
       "    <tr>\n",
       "      <th>0</th>\n",
       "      <td>2017-11-01 11:03:00</td>\n",
       "      <td>stop</td>\n",
       "    </tr>\n",
       "    <tr>\n",
       "      <th>1</th>\n",
       "      <td>2017-01-30 08:51:00</td>\n",
       "      <td>stop</td>\n",
       "    </tr>\n",
       "    <tr>\n",
       "      <th>2</th>\n",
       "      <td>2017-02-24 17:45:00</td>\n",
       "      <td>stop</td>\n",
       "    </tr>\n",
       "    <tr>\n",
       "      <th>3</th>\n",
       "      <td>2017-07-03 00:16:00</td>\n",
       "      <td>stop</td>\n",
       "    </tr>\n",
       "    <tr>\n",
       "      <th>4</th>\n",
       "      <td>2017-08-03 11:23:00</td>\n",
       "      <td>vibrosito</td>\n",
       "    </tr>\n",
       "    <tr>\n",
       "      <th>5</th>\n",
       "      <td>2017-08-03 15:56:00</td>\n",
       "      <td>vibrosito</td>\n",
       "    </tr>\n",
       "    <tr>\n",
       "      <th>6</th>\n",
       "      <td>2017-10-03 17:55:00</td>\n",
       "      <td>stop</td>\n",
       "    </tr>\n",
       "    <tr>\n",
       "      <th>7</th>\n",
       "      <td>2017-03-31 01:42:00</td>\n",
       "      <td>vibrosito</td>\n",
       "    </tr>\n",
       "    <tr>\n",
       "      <th>8</th>\n",
       "      <td>2017-01-04 07:45:00</td>\n",
       "      <td>stop</td>\n",
       "    </tr>\n",
       "    <tr>\n",
       "      <th>9</th>\n",
       "      <td>2017-03-04 20:48:00</td>\n",
       "      <td>stop</td>\n",
       "    </tr>\n",
       "    <tr>\n",
       "      <th>10</th>\n",
       "      <td>2017-04-21 10:02:00</td>\n",
       "      <td>stop</td>\n",
       "    </tr>\n",
       "    <tr>\n",
       "      <th>11</th>\n",
       "      <td>2017-04-24 13:51:00</td>\n",
       "      <td>stop</td>\n",
       "    </tr>\n",
       "    <tr>\n",
       "      <th>12</th>\n",
       "      <td>2017-04-06 13:23:00</td>\n",
       "      <td>stop</td>\n",
       "    </tr>\n",
       "    <tr>\n",
       "      <th>13</th>\n",
       "      <td>2017-06-06 13:32:00</td>\n",
       "      <td>vibrosito</td>\n",
       "    </tr>\n",
       "    <tr>\n",
       "      <th>14</th>\n",
       "      <td>2017-07-06 16:29:00</td>\n",
       "      <td>vibrosito</td>\n",
       "    </tr>\n",
       "    <tr>\n",
       "      <th>15</th>\n",
       "      <td>2017-06-10 03:21:00</td>\n",
       "      <td>stop</td>\n",
       "    </tr>\n",
       "    <tr>\n",
       "      <th>16</th>\n",
       "      <td>2017-08-10 16:00:00</td>\n",
       "      <td>stop</td>\n",
       "    </tr>\n",
       "    <tr>\n",
       "      <th>17</th>\n",
       "      <td>2017-10-14 14:13:00</td>\n",
       "      <td>stop</td>\n",
       "    </tr>\n",
       "    <tr>\n",
       "      <th>18</th>\n",
       "      <td>2017-10-15 09:34:00</td>\n",
       "      <td>vibrosito</td>\n",
       "    </tr>\n",
       "    <tr>\n",
       "      <th>19</th>\n",
       "      <td>2017-10-21 02:23:00</td>\n",
       "      <td>stop</td>\n",
       "    </tr>\n",
       "  </tbody>\n",
       "</table>\n",
       "</div>"
      ],
      "text/plain": [
       "                  date       type\n",
       "0  2017-11-01 11:03:00       stop\n",
       "1  2017-01-30 08:51:00       stop\n",
       "2  2017-02-24 17:45:00       stop\n",
       "3  2017-07-03 00:16:00       stop\n",
       "4  2017-08-03 11:23:00  vibrosito\n",
       "5  2017-08-03 15:56:00  vibrosito\n",
       "6  2017-10-03 17:55:00       stop\n",
       "7  2017-03-31 01:42:00  vibrosito\n",
       "8  2017-01-04 07:45:00       stop\n",
       "9  2017-03-04 20:48:00       stop\n",
       "10 2017-04-21 10:02:00       stop\n",
       "11 2017-04-24 13:51:00       stop\n",
       "12 2017-04-06 13:23:00       stop\n",
       "13 2017-06-06 13:32:00  vibrosito\n",
       "14 2017-07-06 16:29:00  vibrosito\n",
       "15 2017-06-10 03:21:00       stop\n",
       "16 2017-08-10 16:00:00       stop\n",
       "17 2017-10-14 14:13:00       stop\n",
       "18 2017-10-15 09:34:00  vibrosito\n",
       "19 2017-10-21 02:23:00       stop"
      ]
     },
     "execution_count": 23,
     "metadata": {},
     "output_type": "execute_result"
    }
   ],
   "source": [
    "stops.iloc[:20]"
   ]
  },
  {
   "cell_type": "code",
   "execution_count": 24,
   "metadata": {},
   "outputs": [
    {
     "data": {
      "text/plain": [
       "datetime.datetime(2017, 6, 10, 1, 0)"
      ]
     },
     "execution_count": 24,
     "metadata": {},
     "output_type": "execute_result"
    }
   ],
   "source": [
    "# date, csv_path = parser.parse('2017-11-01 09:10'), 'sasha.csv'\n",
    "date, csv_path = parser.parse('2017-06-10 01:00'), 'sasha.csv'\n",
    "date"
   ]
  },
  {
   "cell_type": "code",
   "execution_count": 25,
   "metadata": {},
   "outputs": [
    {
     "name": "stderr",
     "output_type": "stream",
     "text": [
      "100%|██████████| 1440/1440 [01:01<00:00, 23.48it/s]\n",
      "100%|██████████| 1440/1440 [03:20<00:00,  7.19it/s]\n"
     ]
    },
    {
     "data": {
      "text/plain": [
       "[0.5013974176651529,\n",
       " 0.3497626257018101,\n",
       " 0.09650198093735121,\n",
       " 0.4364884041865759]"
      ]
     },
     "execution_count": 25,
     "metadata": {},
     "output_type": "execute_result"
    }
   ],
   "source": [
    "p = get_by_date(date, csv_path)\n",
    "p[:4]"
   ]
  },
  {
   "cell_type": "code",
   "execution_count": 26,
   "metadata": {},
   "outputs": [
    {
     "data": {
      "text/plain": [
       "[<matplotlib.lines.Line2D at 0x156ae9b70>]"
      ]
     },
     "execution_count": 26,
     "metadata": {},
     "output_type": "execute_result"
    },
    {
     "data": {
      "image/png": "[encoded data removed]",
      "text/plain": [
       "<Figure size 432x288 with 1 Axes>"
      ]
     },
     "metadata": {},
     "output_type": "display_data"
    }
   ],
   "source": [
    "plt.plot(p)"
   ]
  },
  {
   "cell_type": "code",
   "execution_count": 27,
   "metadata": {},
   "outputs": [
    {
     "data": {
      "image/png": "[encoded data removed]",
      "text/plain": [
       "<Figure size 1224x720 with 1 Axes>"
      ]
     },
     "metadata": {},
     "output_type": "display_data"
    }
   ],
   "source": [
    "plt.figure(figsize=(17, 10))\n",
    "pd.Series(p).rolling(150).mean().plot(label='Вероятность поломки');\n",
    "plt.plot([426, 426], [0, 0.8], color='orange', label='Резкий рост вероятности');\n",
    "plt.plot([846, 846], [0, 0.8], color='r', label='Поломка');\n",
    "plt.legend()\n",
    "plt.savefig('ptimeplot1.png');"
   ]
  }
 ],
 "metadata": {
  "kernelspec": {
   "display_name": "Python 3",
   "language": "python",
   "name": "python3"
  },
  "language_info": {
   "codemirror_mode": {
    "name": "ipython",
    "version": 3
   },
   "file_extension": ".py",
   "mimetype": "text/x-python",
   "name": "python",
   "nbconvert_exporter": "python",
   "pygments_lexer": "ipython3",
   "version": "3.6.4"
  }
 },
 "nbformat": 4,
 "nbformat_minor": 2
}
